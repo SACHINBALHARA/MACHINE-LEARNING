{
 "cells": [
  {
   "cell_type": "code",
   "execution_count": null,
   "id": "796cb2e9",
   "metadata": {},
   "outputs": [],
   "source": [
    "# import libraries "
   ]
  },
  {
   "cell_type": "code",
   "execution_count": 19,
   "id": "a9f24072",
   "metadata": {},
   "outputs": [],
   "source": [
    "import pandas as pd\n",
    "import numpy as np\n",
    "\n",
    "import matplotlib.pyplot as plt\n",
    "import seaborn as sns\n",
    "import datetime"
   ]
  },
  {
   "cell_type": "code",
   "execution_count": 20,
   "id": "4c29e040",
   "metadata": {},
   "outputs": [],
   "source": [
    "# load dataset"
   ]
  },
  {
   "cell_type": "code",
   "execution_count": 21,
   "id": "7e668ff6",
   "metadata": {},
   "outputs": [],
   "source": [
    "data=pd.read_csv(r'C:\\Users\\SACHIN\\Downloads\\mobile_recommendation_system_dataset.csv')"
   ]
  },
  {
   "cell_type": "code",
   "execution_count": 22,
   "id": "be92711f",
   "metadata": {},
   "outputs": [
    {
     "data": {
      "text/plain": [
       "(2546, 5)"
      ]
     },
     "execution_count": 22,
     "metadata": {},
     "output_type": "execute_result"
    }
   ],
   "source": [
    "data.shape"
   ]
  },
  {
   "cell_type": "code",
   "execution_count": 23,
   "id": "27d6801e",
   "metadata": {},
   "outputs": [
    {
     "name": "stdout",
     "output_type": "stream",
     "text": [
      "<class 'pandas.core.frame.DataFrame'>\n",
      "RangeIndex: 2546 entries, 0 to 2545\n",
      "Data columns (total 5 columns):\n",
      " #   Column   Non-Null Count  Dtype  \n",
      "---  ------   --------------  -----  \n",
      " 0   name     2546 non-null   object \n",
      " 1   ratings  2546 non-null   float64\n",
      " 2   price    2546 non-null   object \n",
      " 3   imgURL   2546 non-null   object \n",
      " 4   corpus   2534 non-null   object \n",
      "dtypes: float64(1), object(4)\n",
      "memory usage: 99.6+ KB\n"
     ]
    }
   ],
   "source": [
    "data.info()"
   ]
  },
  {
   "cell_type": "code",
   "execution_count": 24,
   "id": "3e58846e",
   "metadata": {},
   "outputs": [
    {
     "data": {
      "text/plain": [
       "name        0\n",
       "ratings     0\n",
       "price       0\n",
       "imgURL      0\n",
       "corpus     12\n",
       "dtype: int64"
      ]
     },
     "execution_count": 24,
     "metadata": {},
     "output_type": "execute_result"
    }
   ],
   "source": [
    "data.isnull().sum()"
   ]
  },
  {
   "cell_type": "code",
   "execution_count": 25,
   "id": "d03d704b",
   "metadata": {},
   "outputs": [
    {
     "data": {
      "text/html": [
       "<div>\n",
       "<style scoped>\n",
       "    .dataframe tbody tr th:only-of-type {\n",
       "        vertical-align: middle;\n",
       "    }\n",
       "\n",
       "    .dataframe tbody tr th {\n",
       "        vertical-align: top;\n",
       "    }\n",
       "\n",
       "    .dataframe thead th {\n",
       "        text-align: right;\n",
       "    }\n",
       "</style>\n",
       "<table border=\"1\" class=\"dataframe\">\n",
       "  <thead>\n",
       "    <tr style=\"text-align: right;\">\n",
       "      <th></th>\n",
       "      <th>name</th>\n",
       "      <th>ratings</th>\n",
       "      <th>price</th>\n",
       "      <th>imgURL</th>\n",
       "      <th>corpus</th>\n",
       "    </tr>\n",
       "  </thead>\n",
       "  <tbody>\n",
       "    <tr>\n",
       "      <th>0</th>\n",
       "      <td>REDMI Note 12 Pro 5G (Onyx Black, 128 GB)</td>\n",
       "      <td>4.2</td>\n",
       "      <td>23999</td>\n",
       "      <td>https://rukminim2.flixcart.com/image/312/312/x...</td>\n",
       "      <td>Storage128 GBRAM6  SystemAndroid 12Processor T...</td>\n",
       "    </tr>\n",
       "    <tr>\n",
       "      <th>1</th>\n",
       "      <td>OPPO F11 Pro (Aurora Green, 128 GB)</td>\n",
       "      <td>4.5</td>\n",
       "      <td>₹20,999</td>\n",
       "      <td>https://rukminim2.flixcart.com/image/312/312/k...</td>\n",
       "      <td>Storage128 GBRAM6 GBExpandable Storage256GB  S...</td>\n",
       "    </tr>\n",
       "    <tr>\n",
       "      <th>2</th>\n",
       "      <td>REDMI Note 11 (Starburst White, 64 GB)</td>\n",
       "      <td>4.2</td>\n",
       "      <td>13149</td>\n",
       "      <td>https://rukminim2.flixcart.com/image/312/312/x...</td>\n",
       "      <td>Storage64 GBRAM4  SystemAndroid 11Processor Sp...</td>\n",
       "    </tr>\n",
       "    <tr>\n",
       "      <th>3</th>\n",
       "      <td>OnePlus Nord CE 5G (Blue Void, 256 GB)</td>\n",
       "      <td>4.1</td>\n",
       "      <td>21999</td>\n",
       "      <td>https://rukminim2.flixcart.com/image/312/312/x...</td>\n",
       "      <td>Storage256 GBRAM12  SystemAndroid Q 11Processo...</td>\n",
       "    </tr>\n",
       "    <tr>\n",
       "      <th>4</th>\n",
       "      <td>APPLE iPhone 13 mini (Blue, 128 GB)</td>\n",
       "      <td>4.6</td>\n",
       "      <td>3537</td>\n",
       "      <td>https://rukminim2.flixcart.com/image/312/312/k...</td>\n",
       "      <td>Storage128  SystemiOS 15Processor TypeA15 Bion...</td>\n",
       "    </tr>\n",
       "  </tbody>\n",
       "</table>\n",
       "</div>"
      ],
      "text/plain": [
       "                                        name  ratings    price  \\\n",
       "0  REDMI Note 12 Pro 5G (Onyx Black, 128 GB)      4.2    23999   \n",
       "1        OPPO F11 Pro (Aurora Green, 128 GB)      4.5  ₹20,999   \n",
       "2     REDMI Note 11 (Starburst White, 64 GB)      4.2    13149   \n",
       "3     OnePlus Nord CE 5G (Blue Void, 256 GB)      4.1    21999   \n",
       "4        APPLE iPhone 13 mini (Blue, 128 GB)      4.6     3537   \n",
       "\n",
       "                                              imgURL  \\\n",
       "0  https://rukminim2.flixcart.com/image/312/312/x...   \n",
       "1  https://rukminim2.flixcart.com/image/312/312/k...   \n",
       "2  https://rukminim2.flixcart.com/image/312/312/x...   \n",
       "3  https://rukminim2.flixcart.com/image/312/312/x...   \n",
       "4  https://rukminim2.flixcart.com/image/312/312/k...   \n",
       "\n",
       "                                              corpus  \n",
       "0  Storage128 GBRAM6  SystemAndroid 12Processor T...  \n",
       "1  Storage128 GBRAM6 GBExpandable Storage256GB  S...  \n",
       "2  Storage64 GBRAM4  SystemAndroid 11Processor Sp...  \n",
       "3  Storage256 GBRAM12  SystemAndroid Q 11Processo...  \n",
       "4  Storage128  SystemiOS 15Processor TypeA15 Bion...  "
      ]
     },
     "execution_count": 25,
     "metadata": {},
     "output_type": "execute_result"
    }
   ],
   "source": [
    "data.head()"
   ]
  },
  {
   "cell_type": "code",
   "execution_count": 26,
   "id": "c0bd3a54",
   "metadata": {},
   "outputs": [],
   "source": [
    "# Display the full row value without truncation\n",
    "\n",
    "pd.set_option('display.max_colwidth',None)"
   ]
  },
  {
   "cell_type": "code",
   "execution_count": 27,
   "id": "cc1d478e",
   "metadata": {},
   "outputs": [
    {
     "data": {
      "text/html": [
       "<div>\n",
       "<style scoped>\n",
       "    .dataframe tbody tr th:only-of-type {\n",
       "        vertical-align: middle;\n",
       "    }\n",
       "\n",
       "    .dataframe tbody tr th {\n",
       "        vertical-align: top;\n",
       "    }\n",
       "\n",
       "    .dataframe thead th {\n",
       "        text-align: right;\n",
       "    }\n",
       "</style>\n",
       "<table border=\"1\" class=\"dataframe\">\n",
       "  <thead>\n",
       "    <tr style=\"text-align: right;\">\n",
       "      <th></th>\n",
       "      <th>name</th>\n",
       "      <th>ratings</th>\n",
       "      <th>price</th>\n",
       "      <th>imgURL</th>\n",
       "      <th>corpus</th>\n",
       "    </tr>\n",
       "  </thead>\n",
       "  <tbody>\n",
       "    <tr>\n",
       "      <th>0</th>\n",
       "      <td>REDMI Note 12 Pro 5G (Onyx Black, 128 GB)</td>\n",
       "      <td>4.2</td>\n",
       "      <td>23999</td>\n",
       "      <td>https://rukminim2.flixcart.com/image/312/312/xif0q/mobile/b/r/f/-original-imaghkvuhzwge3za.jpeg?q=70</td>\n",
       "      <td>Storage128 GBRAM6  SystemAndroid 12Processor TypeMediatek Dimensity 1080Processor Speed2.6 50MP 8MP 2MP 50MP 16MP 5G Capacity5000 Display Size16.94 cm (6.67 inch)Resolution2400 x 1080 PixelsResolution TypeFull HD+ AMOLED DisplayGPUARM Mali-G68 MC4Display TypeFull HD+ AMOLED DisplayOther Display FeaturesRefresh Rate: 120 Hz, Contrast: 5,000,000:1, 1920Hz PWM Dimming, Brightness Level: 16000:1, Peak Brightness: 900 nits</td>\n",
       "    </tr>\n",
       "    <tr>\n",
       "      <th>1</th>\n",
       "      <td>OPPO F11 Pro (Aurora Green, 128 GB)</td>\n",
       "      <td>4.5</td>\n",
       "      <td>₹20,999</td>\n",
       "      <td>https://rukminim2.flixcart.com/image/312/312/k01b8280pkrrdj/mobile-refurbished/8/w/n/f11-pro-128-d-cph1969-oppo-6-original-imafec8hzfzyg79e.jpeg?q=70</td>\n",
       "      <td>Storage128 GBRAM6 GBExpandable Storage256GB  SystemAndroid Pie 9.0Processor TypeMediaTek Helio P70 Octa Core 2.1 GHzProcessor Speed2.1 48MP 5MP 48MP 5MP 48MP 5MP 48MP 5MP 48MP 5MP 16MP 3G Capacity4000 Display Size16.51 cm (6.5 inch)Resolution2340 x 1080 pixelsResolution TypeFull HD+GPUARM Mali-G72 MP3 at 900 MHzDisplay Colors16MOther Display FeaturesScreen Texture: TFT-LTPS, In-cell Touch Panel Technology, Narrow Frame: 1.70mm (Size from AA to Outside Edge of Glass), Screen Ratio: 90.90%, Screen Contrast: 1500:1 (Typical), Color Saturation: NTSC 81.5% (Typical), Maximum Brightness: 480 nits (Typical), Touch Screen Supplier: DSBJ, TM, Touch Panel Glass Type: Dragontrail</td>\n",
       "    </tr>\n",
       "    <tr>\n",
       "      <th>2</th>\n",
       "      <td>REDMI Note 11 (Starburst White, 64 GB)</td>\n",
       "      <td>4.2</td>\n",
       "      <td>13149</td>\n",
       "      <td>https://rukminim2.flixcart.com/image/312/312/xif0q/mobile/m/e/y/-original-imagbgaqje2mygjm.jpeg?q=70</td>\n",
       "      <td>Storage64 GBRAM4  SystemAndroid 11Processor Speed2.4 50MP 4G Capacity5000 Display Size16.33 cm (6.43 inch)Resolution2400 x 1080 pixel</td>\n",
       "    </tr>\n",
       "    <tr>\n",
       "      <th>3</th>\n",
       "      <td>OnePlus Nord CE 5G (Blue Void, 256 GB)</td>\n",
       "      <td>4.1</td>\n",
       "      <td>21999</td>\n",
       "      <td>https://rukminim2.flixcart.com/image/312/312/xif0q/mobile/x/t/k/-original-imag43fz8bd4hg3d.jpeg?q=70</td>\n",
       "      <td>Storage256 GBRAM12  SystemAndroid Q 11Processor TypeQualcomm Snapdragon Octa Core 750G 5G ProcessorProcessor Speed2.4 64MP 5G Capacity4500 Display Size16.33 cm (6.43 inch)Resolution2400 x 1080$$pixelsDisplay TypeFluid Amoled Display</td>\n",
       "    </tr>\n",
       "    <tr>\n",
       "      <th>4</th>\n",
       "      <td>APPLE iPhone 13 mini (Blue, 128 GB)</td>\n",
       "      <td>4.6</td>\n",
       "      <td>3537</td>\n",
       "      <td>https://rukminim2.flixcart.com/image/312/312/ktketu80/mobile/a/i/l/iphone-13-mini-mlk93hn-a-apple-original-imag6vp6x67yypzk.jpeg?q=70</td>\n",
       "      <td>Storage128  SystemiOS 15Processor TypeA15 Bionic Chip 12MP 12MP 12MP 63MP 12MP 12MP 5G notMentioned Display Size13.72 cm (5.4 inch)Resolution2340 x 1080 PixelsResolution TypeSuper Retina XDR DisplayDisplay TypeSuper Retina XDR DisplayOther Display FeaturesSuper Retina XDR Display, 5.4‑inch (Diagonal) All‑screen OLED Display, HDR Display, True Tone, Wide Colour (P3), Haptic Touch, 20,00,000:1 Contrast Ratio (Typical), 800 nits max Brightness (Typical), 1,200 nits max Brightness (HDR), Fingerprint-resistant Oleophobic Coating, Support for Display of Multiple Languages and Characters Simultaneously</td>\n",
       "    </tr>\n",
       "  </tbody>\n",
       "</table>\n",
       "</div>"
      ],
      "text/plain": [
       "                                        name  ratings    price  \\\n",
       "0  REDMI Note 12 Pro 5G (Onyx Black, 128 GB)      4.2    23999   \n",
       "1        OPPO F11 Pro (Aurora Green, 128 GB)      4.5  ₹20,999   \n",
       "2     REDMI Note 11 (Starburst White, 64 GB)      4.2    13149   \n",
       "3     OnePlus Nord CE 5G (Blue Void, 256 GB)      4.1    21999   \n",
       "4        APPLE iPhone 13 mini (Blue, 128 GB)      4.6     3537   \n",
       "\n",
       "                                                                                                                                                  imgURL  \\\n",
       "0                                                   https://rukminim2.flixcart.com/image/312/312/xif0q/mobile/b/r/f/-original-imaghkvuhzwge3za.jpeg?q=70   \n",
       "1  https://rukminim2.flixcart.com/image/312/312/k01b8280pkrrdj/mobile-refurbished/8/w/n/f11-pro-128-d-cph1969-oppo-6-original-imafec8hzfzyg79e.jpeg?q=70   \n",
       "2                                                   https://rukminim2.flixcart.com/image/312/312/xif0q/mobile/m/e/y/-original-imagbgaqje2mygjm.jpeg?q=70   \n",
       "3                                                   https://rukminim2.flixcart.com/image/312/312/xif0q/mobile/x/t/k/-original-imag43fz8bd4hg3d.jpeg?q=70   \n",
       "4                  https://rukminim2.flixcart.com/image/312/312/ktketu80/mobile/a/i/l/iphone-13-mini-mlk93hn-a-apple-original-imag6vp6x67yypzk.jpeg?q=70   \n",
       "\n",
       "                                                                                                                                                                                                                                                                                                                                                                                                                                                                                                                                                                                                                                                                                                  corpus  \n",
       "0                                                                                                                                                                                                                                                                  Storage128 GBRAM6  SystemAndroid 12Processor TypeMediatek Dimensity 1080Processor Speed2.6 50MP 8MP 2MP 50MP 16MP 5G Capacity5000 Display Size16.94 cm (6.67 inch)Resolution2400 x 1080 PixelsResolution TypeFull HD+ AMOLED DisplayGPUARM Mali-G68 MC4Display TypeFull HD+ AMOLED DisplayOther Display FeaturesRefresh Rate: 120 Hz, Contrast: 5,000,000:1, 1920Hz PWM Dimming, Brightness Level: 16000:1, Peak Brightness: 900 nits  \n",
       "1  Storage128 GBRAM6 GBExpandable Storage256GB  SystemAndroid Pie 9.0Processor TypeMediaTek Helio P70 Octa Core 2.1 GHzProcessor Speed2.1 48MP 5MP 48MP 5MP 48MP 5MP 48MP 5MP 48MP 5MP 16MP 3G Capacity4000 Display Size16.51 cm (6.5 inch)Resolution2340 x 1080 pixelsResolution TypeFull HD+GPUARM Mali-G72 MP3 at 900 MHzDisplay Colors16MOther Display FeaturesScreen Texture: TFT-LTPS, In-cell Touch Panel Technology, Narrow Frame: 1.70mm (Size from AA to Outside Edge of Glass), Screen Ratio: 90.90%, Screen Contrast: 1500:1 (Typical), Color Saturation: NTSC 81.5% (Typical), Maximum Brightness: 480 nits (Typical), Touch Screen Supplier: DSBJ, TM, Touch Panel Glass Type: Dragontrail  \n",
       "2                                                                                                                                                                                                                                                                                                                                                                                                                                                                                                                                                                  Storage64 GBRAM4  SystemAndroid 11Processor Speed2.4 50MP 4G Capacity5000 Display Size16.33 cm (6.43 inch)Resolution2400 x 1080 pixel  \n",
       "3                                                                                                                                                                                                                                                                                                                                                                                                                                                               Storage256 GBRAM12  SystemAndroid Q 11Processor TypeQualcomm Snapdragon Octa Core 750G 5G ProcessorProcessor Speed2.4 64MP 5G Capacity4500 Display Size16.33 cm (6.43 inch)Resolution2400 x 1080$$pixelsDisplay TypeFluid Amoled Display  \n",
       "4                                                                             Storage128  SystemiOS 15Processor TypeA15 Bionic Chip 12MP 12MP 12MP 63MP 12MP 12MP 5G notMentioned Display Size13.72 cm (5.4 inch)Resolution2340 x 1080 PixelsResolution TypeSuper Retina XDR DisplayDisplay TypeSuper Retina XDR DisplayOther Display FeaturesSuper Retina XDR Display, 5.4‑inch (Diagonal) All‑screen OLED Display, HDR Display, True Tone, Wide Colour (P3), Haptic Touch, 20,00,000:1 Contrast Ratio (Typical), 800 nits max Brightness (Typical), 1,200 nits max Brightness (HDR), Fingerprint-resistant Oleophobic Coating, Support for Display of Multiple Languages and Characters Simultaneously  "
      ]
     },
     "execution_count": 27,
     "metadata": {},
     "output_type": "execute_result"
    }
   ],
   "source": [
    "data.head()"
   ]
  },
  {
   "cell_type": "code",
   "execution_count": 28,
   "id": "b70341ad",
   "metadata": {},
   "outputs": [
    {
     "data": {
      "text/plain": [
       "Index(['name', 'ratings', 'price', 'imgURL', 'corpus'], dtype='object')"
      ]
     },
     "execution_count": 28,
     "metadata": {},
     "output_type": "execute_result"
    }
   ],
   "source": [
    "data.columns"
   ]
  },
  {
   "cell_type": "code",
   "execution_count": 29,
   "id": "48e855a9",
   "metadata": {},
   "outputs": [],
   "source": [
    "# remove blank columns "
   ]
  },
  {
   "cell_type": "code",
   "execution_count": 30,
   "id": "135e4a87",
   "metadata": {},
   "outputs": [],
   "source": [
    "data=data.dropna()"
   ]
  },
  {
   "cell_type": "code",
   "execution_count": 31,
   "id": "24146970",
   "metadata": {},
   "outputs": [
    {
     "data": {
      "text/plain": [
       "(2534, 5)"
      ]
     },
     "execution_count": 31,
     "metadata": {},
     "output_type": "execute_result"
    }
   ],
   "source": [
    "data.shape"
   ]
  },
  {
   "cell_type": "code",
   "execution_count": 32,
   "id": "a69ca3bf",
   "metadata": {},
   "outputs": [
    {
     "data": {
      "text/plain": [
       "name       0\n",
       "ratings    0\n",
       "price      0\n",
       "imgURL     0\n",
       "corpus     0\n",
       "dtype: int64"
      ]
     },
     "execution_count": 32,
     "metadata": {},
     "output_type": "execute_result"
    }
   ],
   "source": [
    "data.isnull().sum()"
   ]
  },
  {
   "cell_type": "code",
   "execution_count": 33,
   "id": "6ba2ff29",
   "metadata": {},
   "outputs": [
    {
     "data": {
      "text/plain": [
       "Index(['name', 'ratings', 'price', 'imgURL', 'corpus'], dtype='object')"
      ]
     },
     "execution_count": 33,
     "metadata": {},
     "output_type": "execute_result"
    }
   ],
   "source": [
    "data.columns"
   ]
  },
  {
   "cell_type": "code",
   "execution_count": 34,
   "id": "ce139ef0",
   "metadata": {},
   "outputs": [],
   "source": [
    "import re"
   ]
  },
  {
   "cell_type": "code",
   "execution_count": 36,
   "id": "cdd5e802",
   "metadata": {
    "collapsed": true
   },
   "outputs": [
    {
     "data": {
      "text/html": [
       "<div>\n",
       "<style scoped>\n",
       "    .dataframe tbody tr th:only-of-type {\n",
       "        vertical-align: middle;\n",
       "    }\n",
       "\n",
       "    .dataframe tbody tr th {\n",
       "        vertical-align: top;\n",
       "    }\n",
       "\n",
       "    .dataframe thead th {\n",
       "        text-align: right;\n",
       "    }\n",
       "</style>\n",
       "<table border=\"1\" class=\"dataframe\">\n",
       "  <thead>\n",
       "    <tr style=\"text-align: right;\">\n",
       "      <th></th>\n",
       "      <th>name</th>\n",
       "      <th>ratings</th>\n",
       "      <th>price</th>\n",
       "      <th>imgURL</th>\n",
       "      <th>corpus</th>\n",
       "    </tr>\n",
       "  </thead>\n",
       "  <tbody>\n",
       "    <tr>\n",
       "      <th>0</th>\n",
       "      <td>REDMI Note 12 Pro 5G (Onyx Black, 128 GB)</td>\n",
       "      <td>4.2</td>\n",
       "      <td>23999</td>\n",
       "      <td>https://rukminim2.flixcart.com/image/312/312/xif0q/mobile/b/r/f/-original-imaghkvuhzwge3za.jpeg?q=70</td>\n",
       "      <td>Storage128 GBRAM6  SystemAndroid 12Processor TypeMediatek Dimensity 1080Processor Speed2.6 50MP 8MP 2MP 50MP 16MP 5G Capacity5000 Display Size16.94 cm (6.67 inch)Resolution2400 x 1080 PixelsResolution TypeFull HD+ AMOLED DisplayGPUARM Mali-G68 MC4Display TypeFull HD+ AMOLED DisplayOther Display FeaturesRefresh Rate: 120 Hz, Contrast: 5,000,000:1, 1920Hz PWM Dimming, Brightness Level: 16000:1, Peak Brightness: 900 nits</td>\n",
       "    </tr>\n",
       "    <tr>\n",
       "      <th>1</th>\n",
       "      <td>OPPO F11 Pro (Aurora Green, 128 GB)</td>\n",
       "      <td>4.5</td>\n",
       "      <td>₹20,999</td>\n",
       "      <td>https://rukminim2.flixcart.com/image/312/312/k01b8280pkrrdj/mobile-refurbished/8/w/n/f11-pro-128-d-cph1969-oppo-6-original-imafec8hzfzyg79e.jpeg?q=70</td>\n",
       "      <td>Storage128 GBRAM6 GBExpandable Storage256GB  SystemAndroid Pie 9.0Processor TypeMediaTek Helio P70 Octa Core 2.1 GHzProcessor Speed2.1 48MP 5MP 48MP 5MP 48MP 5MP 48MP 5MP 48MP 5MP 16MP 3G Capacity4000 Display Size16.51 cm (6.5 inch)Resolution2340 x 1080 pixelsResolution TypeFull HD+GPUARM Mali-G72 MP3 at 900 MHzDisplay Colors16MOther Display FeaturesScreen Texture: TFT-LTPS, In-cell Touch Panel Technology, Narrow Frame: 1.70mm (Size from AA to Outside Edge of Glass), Screen Ratio: 90.90%, Screen Contrast: 1500:1 (Typical), Color Saturation: NTSC 81.5% (Typical), Maximum Brightness: 480 nits (Typical), Touch Screen Supplier: DSBJ, TM, Touch Panel Glass Type: Dragontrail</td>\n",
       "    </tr>\n",
       "    <tr>\n",
       "      <th>2</th>\n",
       "      <td>REDMI Note 11 (Starburst White, 64 GB)</td>\n",
       "      <td>4.2</td>\n",
       "      <td>13149</td>\n",
       "      <td>https://rukminim2.flixcart.com/image/312/312/xif0q/mobile/m/e/y/-original-imagbgaqje2mygjm.jpeg?q=70</td>\n",
       "      <td>Storage64 GBRAM4  SystemAndroid 11Processor Speed2.4 50MP 4G Capacity5000 Display Size16.33 cm (6.43 inch)Resolution2400 x 1080 pixel</td>\n",
       "    </tr>\n",
       "    <tr>\n",
       "      <th>3</th>\n",
       "      <td>OnePlus Nord CE 5G (Blue Void, 256 GB)</td>\n",
       "      <td>4.1</td>\n",
       "      <td>21999</td>\n",
       "      <td>https://rukminim2.flixcart.com/image/312/312/xif0q/mobile/x/t/k/-original-imag43fz8bd4hg3d.jpeg?q=70</td>\n",
       "      <td>Storage256 GBRAM12  SystemAndroid Q 11Processor TypeQualcomm Snapdragon Octa Core 750G 5G ProcessorProcessor Speed2.4 64MP 5G Capacity4500 Display Size16.33 cm (6.43 inch)Resolution2400 x 1080$$pixelsDisplay TypeFluid Amoled Display</td>\n",
       "    </tr>\n",
       "    <tr>\n",
       "      <th>4</th>\n",
       "      <td>APPLE iPhone 13 mini (Blue, 128 GB)</td>\n",
       "      <td>4.6</td>\n",
       "      <td>3537</td>\n",
       "      <td>https://rukminim2.flixcart.com/image/312/312/ktketu80/mobile/a/i/l/iphone-13-mini-mlk93hn-a-apple-original-imag6vp6x67yypzk.jpeg?q=70</td>\n",
       "      <td>Storage128  SystemiOS 15Processor TypeA15 Bionic Chip 12MP 12MP 12MP 63MP 12MP 12MP 5G notMentioned Display Size13.72 cm (5.4 inch)Resolution2340 x 1080 PixelsResolution TypeSuper Retina XDR DisplayDisplay TypeSuper Retina XDR DisplayOther Display FeaturesSuper Retina XDR Display, 5.4‑inch (Diagonal) All‑screen OLED Display, HDR Display, True Tone, Wide Colour (P3), Haptic Touch, 20,00,000:1 Contrast Ratio (Typical), 800 nits max Brightness (Typical), 1,200 nits max Brightness (HDR), Fingerprint-resistant Oleophobic Coating, Support for Display of Multiple Languages and Characters Simultaneously</td>\n",
       "    </tr>\n",
       "  </tbody>\n",
       "</table>\n",
       "</div>"
      ],
      "text/plain": [
       "                                        name  ratings    price  \\\n",
       "0  REDMI Note 12 Pro 5G (Onyx Black, 128 GB)      4.2    23999   \n",
       "1        OPPO F11 Pro (Aurora Green, 128 GB)      4.5  ₹20,999   \n",
       "2     REDMI Note 11 (Starburst White, 64 GB)      4.2    13149   \n",
       "3     OnePlus Nord CE 5G (Blue Void, 256 GB)      4.1    21999   \n",
       "4        APPLE iPhone 13 mini (Blue, 128 GB)      4.6     3537   \n",
       "\n",
       "                                                                                                                                                  imgURL  \\\n",
       "0                                                   https://rukminim2.flixcart.com/image/312/312/xif0q/mobile/b/r/f/-original-imaghkvuhzwge3za.jpeg?q=70   \n",
       "1  https://rukminim2.flixcart.com/image/312/312/k01b8280pkrrdj/mobile-refurbished/8/w/n/f11-pro-128-d-cph1969-oppo-6-original-imafec8hzfzyg79e.jpeg?q=70   \n",
       "2                                                   https://rukminim2.flixcart.com/image/312/312/xif0q/mobile/m/e/y/-original-imagbgaqje2mygjm.jpeg?q=70   \n",
       "3                                                   https://rukminim2.flixcart.com/image/312/312/xif0q/mobile/x/t/k/-original-imag43fz8bd4hg3d.jpeg?q=70   \n",
       "4                  https://rukminim2.flixcart.com/image/312/312/ktketu80/mobile/a/i/l/iphone-13-mini-mlk93hn-a-apple-original-imag6vp6x67yypzk.jpeg?q=70   \n",
       "\n",
       "                                                                                                                                                                                                                                                                                                                                                                                                                                                                                                                                                                                                                                                                                                  corpus  \n",
       "0                                                                                                                                                                                                                                                                  Storage128 GBRAM6  SystemAndroid 12Processor TypeMediatek Dimensity 1080Processor Speed2.6 50MP 8MP 2MP 50MP 16MP 5G Capacity5000 Display Size16.94 cm (6.67 inch)Resolution2400 x 1080 PixelsResolution TypeFull HD+ AMOLED DisplayGPUARM Mali-G68 MC4Display TypeFull HD+ AMOLED DisplayOther Display FeaturesRefresh Rate: 120 Hz, Contrast: 5,000,000:1, 1920Hz PWM Dimming, Brightness Level: 16000:1, Peak Brightness: 900 nits  \n",
       "1  Storage128 GBRAM6 GBExpandable Storage256GB  SystemAndroid Pie 9.0Processor TypeMediaTek Helio P70 Octa Core 2.1 GHzProcessor Speed2.1 48MP 5MP 48MP 5MP 48MP 5MP 48MP 5MP 48MP 5MP 16MP 3G Capacity4000 Display Size16.51 cm (6.5 inch)Resolution2340 x 1080 pixelsResolution TypeFull HD+GPUARM Mali-G72 MP3 at 900 MHzDisplay Colors16MOther Display FeaturesScreen Texture: TFT-LTPS, In-cell Touch Panel Technology, Narrow Frame: 1.70mm (Size from AA to Outside Edge of Glass), Screen Ratio: 90.90%, Screen Contrast: 1500:1 (Typical), Color Saturation: NTSC 81.5% (Typical), Maximum Brightness: 480 nits (Typical), Touch Screen Supplier: DSBJ, TM, Touch Panel Glass Type: Dragontrail  \n",
       "2                                                                                                                                                                                                                                                                                                                                                                                                                                                                                                                                                                  Storage64 GBRAM4  SystemAndroid 11Processor Speed2.4 50MP 4G Capacity5000 Display Size16.33 cm (6.43 inch)Resolution2400 x 1080 pixel  \n",
       "3                                                                                                                                                                                                                                                                                                                                                                                                                                                               Storage256 GBRAM12  SystemAndroid Q 11Processor TypeQualcomm Snapdragon Octa Core 750G 5G ProcessorProcessor Speed2.4 64MP 5G Capacity4500 Display Size16.33 cm (6.43 inch)Resolution2400 x 1080$$pixelsDisplay TypeFluid Amoled Display  \n",
       "4                                                                             Storage128  SystemiOS 15Processor TypeA15 Bionic Chip 12MP 12MP 12MP 63MP 12MP 12MP 5G notMentioned Display Size13.72 cm (5.4 inch)Resolution2340 x 1080 PixelsResolution TypeSuper Retina XDR DisplayDisplay TypeSuper Retina XDR DisplayOther Display FeaturesSuper Retina XDR Display, 5.4‑inch (Diagonal) All‑screen OLED Display, HDR Display, True Tone, Wide Colour (P3), Haptic Touch, 20,00,000:1 Contrast Ratio (Typical), 800 nits max Brightness (Typical), 1,200 nits max Brightness (HDR), Fingerprint-resistant Oleophobic Coating, Support for Display of Multiple Languages and Characters Simultaneously  "
      ]
     },
     "execution_count": 36,
     "metadata": {},
     "output_type": "execute_result"
    }
   ],
   "source": [
    "data.head()"
   ]
  },
  {
   "cell_type": "markdown",
   "id": "4af15e59",
   "metadata": {},
   "source": [
    "# data cleaning"
   ]
  },
  {
   "cell_type": "code",
   "execution_count": 37,
   "id": "b4fcf44e",
   "metadata": {},
   "outputs": [],
   "source": [
    "# remove currency sign from price column\n",
    "\n",
    "data['price'] = data['price'].str.replace('₹', '').str.replace(',', '').astype(int)\n"
   ]
  },
  {
   "cell_type": "code",
   "execution_count": 38,
   "id": "f34f0de5",
   "metadata": {},
   "outputs": [],
   "source": [
    "# extract internal storage , ram and expandable storage  from corpus "
   ]
  },
  {
   "cell_type": "code",
   "execution_count": 39,
   "id": "7a6418a6",
   "metadata": {},
   "outputs": [],
   "source": [
    "def extract_storage(corpus):\n",
    "    \n",
    "    match = re.search(r'Storage(\\d+)', corpus)\n",
    "    if match:\n",
    "        return int(match.group(1))\n",
    "    return None\n",
    "\n",
    "# Apply the function to the 'corpus' column\n",
    "data['Storage'] = data['corpus'].apply(extract_storage)\n",
    "\n",
    "\n",
    "    "
   ]
  },
  {
   "cell_type": "code",
   "execution_count": 40,
   "id": "17717028",
   "metadata": {},
   "outputs": [],
   "source": [
    "def extract_ram(corpus):\n",
    "    \n",
    "    match=re.search(r'RAM(\\d+)',corpus)\n",
    "    if match:\n",
    "        return int(match.group(1))\n",
    "    return None\n",
    "\n",
    "data['ram']=data['corpus'].apply(extract_ram)"
   ]
  },
  {
   "cell_type": "code",
   "execution_count": 41,
   "id": "cb2cd974",
   "metadata": {},
   "outputs": [],
   "source": [
    "def extract_expandable(corpus):\n",
    "    match=re.search(r'Expandable Storage(\\d+)',corpus)\n",
    "    if match:\n",
    "        return int(match.group(1))\n",
    "    return None\n",
    "\n",
    "data['expandable_storage']=data['corpus'].apply(extract_expandable)"
   ]
  },
  {
   "cell_type": "code",
   "execution_count": null,
   "id": "6d6cbc84",
   "metadata": {},
   "outputs": [],
   "source": []
  },
  {
   "cell_type": "code",
   "execution_count": 65,
   "id": "6ffd004b",
   "metadata": {},
   "outputs": [],
   "source": [
    "# extract operating system and processor "
   ]
  },
  {
   "cell_type": "code",
   "execution_count": 42,
   "id": "b015d1da",
   "metadata": {},
   "outputs": [],
   "source": [
    "def system(corpus):\n",
    "    match=re.search(r'System(.*?)Processor',corpus)\n",
    "    \n",
    "    if match:\n",
    "        return match.group(1).strip()\n",
    "    return None\n",
    "\n",
    "data['operating_system']=data['corpus'].apply(system)"
   ]
  },
  {
   "cell_type": "code",
   "execution_count": 43,
   "id": "0662c0f5",
   "metadata": {
    "collapsed": true
   },
   "outputs": [
    {
     "ename": "NameError",
     "evalue": "name 'system_processor' is not defined",
     "output_type": "error",
     "traceback": [
      "\u001b[1;31m---------------------------------------------------------------------------\u001b[0m",
      "\u001b[1;31mNameError\u001b[0m                                 Traceback (most recent call last)",
      "\u001b[1;32m~\\AppData\\Local\\Temp\\ipykernel_11356\\2123055597.py\u001b[0m in \u001b[0;36m<module>\u001b[1;34m\u001b[0m\n\u001b[0;32m      6\u001b[0m     \u001b[1;32mreturn\u001b[0m \u001b[1;32mNone\u001b[0m\u001b[1;33m\u001b[0m\u001b[1;33m\u001b[0m\u001b[0m\n\u001b[0;32m      7\u001b[0m \u001b[1;33m\u001b[0m\u001b[0m\n\u001b[1;32m----> 8\u001b[1;33m \u001b[0mdata\u001b[0m\u001b[1;33m[\u001b[0m\u001b[1;34m'processor'\u001b[0m\u001b[1;33m]\u001b[0m\u001b[1;33m=\u001b[0m\u001b[0mdata\u001b[0m\u001b[1;33m[\u001b[0m\u001b[1;34m'corpus'\u001b[0m\u001b[1;33m]\u001b[0m\u001b[1;33m.\u001b[0m\u001b[0mapply\u001b[0m\u001b[1;33m(\u001b[0m\u001b[0msystem_processor\u001b[0m\u001b[1;33m)\u001b[0m\u001b[1;33m\u001b[0m\u001b[1;33m\u001b[0m\u001b[0m\n\u001b[0m",
      "\u001b[1;31mNameError\u001b[0m: name 'system_processor' is not defined"
     ]
    }
   ],
   "source": [
    "def extract_processor(corpus):\n",
    "    \n",
    "    match = re.search(r'Processor (.*?) ', corpus)\n",
    "    if match:\n",
    "        return match.group(1).strip()\n",
    "    return None\n",
    "\n",
    "data['processor']=data['corpus'].apply(system_processor)"
   ]
  },
  {
   "cell_type": "code",
   "execution_count": 76,
   "id": "95c7f8a1",
   "metadata": {},
   "outputs": [],
   "source": []
  },
  {
   "cell_type": "code",
   "execution_count": 82,
   "id": "7f063eab",
   "metadata": {
    "scrolled": false
   },
   "outputs": [],
   "source": [
    "# extract battery capacity"
   ]
  },
  {
   "cell_type": "code",
   "execution_count": 44,
   "id": "9a8d055f",
   "metadata": {},
   "outputs": [],
   "source": [
    "def capacity(corpus):\n",
    "    match=re.search(r'Capacity(\\d+)',corpus)\n",
    "    if match:\n",
    "        return int(match.group(1))\n",
    "    return None\n",
    "\n",
    "data['battery_capacity']=data['corpus'].apply(capacity)"
   ]
  },
  {
   "cell_type": "code",
   "execution_count": null,
   "id": "09d5c249",
   "metadata": {},
   "outputs": [],
   "source": []
  },
  {
   "cell_type": "code",
   "execution_count": 45,
   "id": "fab91cc1",
   "metadata": {},
   "outputs": [
    {
     "data": {
      "text/html": [
       "<div>\n",
       "<style scoped>\n",
       "    .dataframe tbody tr th:only-of-type {\n",
       "        vertical-align: middle;\n",
       "    }\n",
       "\n",
       "    .dataframe tbody tr th {\n",
       "        vertical-align: top;\n",
       "    }\n",
       "\n",
       "    .dataframe thead th {\n",
       "        text-align: right;\n",
       "    }\n",
       "</style>\n",
       "<table border=\"1\" class=\"dataframe\">\n",
       "  <thead>\n",
       "    <tr style=\"text-align: right;\">\n",
       "      <th></th>\n",
       "      <th>name</th>\n",
       "      <th>ratings</th>\n",
       "      <th>price</th>\n",
       "      <th>imgURL</th>\n",
       "      <th>corpus</th>\n",
       "      <th>Storage</th>\n",
       "      <th>ram</th>\n",
       "      <th>expandable_storage</th>\n",
       "      <th>operating_system</th>\n",
       "      <th>battery_capacity</th>\n",
       "    </tr>\n",
       "  </thead>\n",
       "  <tbody>\n",
       "    <tr>\n",
       "      <th>0</th>\n",
       "      <td>REDMI Note 12 Pro 5G (Onyx Black, 128 GB)</td>\n",
       "      <td>4.2</td>\n",
       "      <td>23999</td>\n",
       "      <td>https://rukminim2.flixcart.com/image/312/312/xif0q/mobile/b/r/f/-original-imaghkvuhzwge3za.jpeg?q=70</td>\n",
       "      <td>Storage128 GBRAM6  SystemAndroid 12Processor TypeMediatek Dimensity 1080Processor Speed2.6 50MP 8MP 2MP 50MP 16MP 5G Capacity5000 Display Size16.94 cm (6.67 inch)Resolution2400 x 1080 PixelsResolution TypeFull HD+ AMOLED DisplayGPUARM Mali-G68 MC4Display TypeFull HD+ AMOLED DisplayOther Display FeaturesRefresh Rate: 120 Hz, Contrast: 5,000,000:1, 1920Hz PWM Dimming, Brightness Level: 16000:1, Peak Brightness: 900 nits</td>\n",
       "      <td>128.0</td>\n",
       "      <td>6.0</td>\n",
       "      <td>NaN</td>\n",
       "      <td>Android 12</td>\n",
       "      <td>5000.0</td>\n",
       "    </tr>\n",
       "    <tr>\n",
       "      <th>1</th>\n",
       "      <td>OPPO F11 Pro (Aurora Green, 128 GB)</td>\n",
       "      <td>4.5</td>\n",
       "      <td>20999</td>\n",
       "      <td>https://rukminim2.flixcart.com/image/312/312/k01b8280pkrrdj/mobile-refurbished/8/w/n/f11-pro-128-d-cph1969-oppo-6-original-imafec8hzfzyg79e.jpeg?q=70</td>\n",
       "      <td>Storage128 GBRAM6 GBExpandable Storage256GB  SystemAndroid Pie 9.0Processor TypeMediaTek Helio P70 Octa Core 2.1 GHzProcessor Speed2.1 48MP 5MP 48MP 5MP 48MP 5MP 48MP 5MP 48MP 5MP 16MP 3G Capacity4000 Display Size16.51 cm (6.5 inch)Resolution2340 x 1080 pixelsResolution TypeFull HD+GPUARM Mali-G72 MP3 at 900 MHzDisplay Colors16MOther Display FeaturesScreen Texture: TFT-LTPS, In-cell Touch Panel Technology, Narrow Frame: 1.70mm (Size from AA to Outside Edge of Glass), Screen Ratio: 90.90%, Screen Contrast: 1500:1 (Typical), Color Saturation: NTSC 81.5% (Typical), Maximum Brightness: 480 nits (Typical), Touch Screen Supplier: DSBJ, TM, Touch Panel Glass Type: Dragontrail</td>\n",
       "      <td>128.0</td>\n",
       "      <td>6.0</td>\n",
       "      <td>256.0</td>\n",
       "      <td>Android Pie 9.0</td>\n",
       "      <td>4000.0</td>\n",
       "    </tr>\n",
       "    <tr>\n",
       "      <th>2</th>\n",
       "      <td>REDMI Note 11 (Starburst White, 64 GB)</td>\n",
       "      <td>4.2</td>\n",
       "      <td>13149</td>\n",
       "      <td>https://rukminim2.flixcart.com/image/312/312/xif0q/mobile/m/e/y/-original-imagbgaqje2mygjm.jpeg?q=70</td>\n",
       "      <td>Storage64 GBRAM4  SystemAndroid 11Processor Speed2.4 50MP 4G Capacity5000 Display Size16.33 cm (6.43 inch)Resolution2400 x 1080 pixel</td>\n",
       "      <td>64.0</td>\n",
       "      <td>4.0</td>\n",
       "      <td>NaN</td>\n",
       "      <td>Android 11</td>\n",
       "      <td>5000.0</td>\n",
       "    </tr>\n",
       "    <tr>\n",
       "      <th>3</th>\n",
       "      <td>OnePlus Nord CE 5G (Blue Void, 256 GB)</td>\n",
       "      <td>4.1</td>\n",
       "      <td>21999</td>\n",
       "      <td>https://rukminim2.flixcart.com/image/312/312/xif0q/mobile/x/t/k/-original-imag43fz8bd4hg3d.jpeg?q=70</td>\n",
       "      <td>Storage256 GBRAM12  SystemAndroid Q 11Processor TypeQualcomm Snapdragon Octa Core 750G 5G ProcessorProcessor Speed2.4 64MP 5G Capacity4500 Display Size16.33 cm (6.43 inch)Resolution2400 x 1080$$pixelsDisplay TypeFluid Amoled Display</td>\n",
       "      <td>256.0</td>\n",
       "      <td>12.0</td>\n",
       "      <td>NaN</td>\n",
       "      <td>Android Q 11</td>\n",
       "      <td>4500.0</td>\n",
       "    </tr>\n",
       "    <tr>\n",
       "      <th>4</th>\n",
       "      <td>APPLE iPhone 13 mini (Blue, 128 GB)</td>\n",
       "      <td>4.6</td>\n",
       "      <td>3537</td>\n",
       "      <td>https://rukminim2.flixcart.com/image/312/312/ktketu80/mobile/a/i/l/iphone-13-mini-mlk93hn-a-apple-original-imag6vp6x67yypzk.jpeg?q=70</td>\n",
       "      <td>Storage128  SystemiOS 15Processor TypeA15 Bionic Chip 12MP 12MP 12MP 63MP 12MP 12MP 5G notMentioned Display Size13.72 cm (5.4 inch)Resolution2340 x 1080 PixelsResolution TypeSuper Retina XDR DisplayDisplay TypeSuper Retina XDR DisplayOther Display FeaturesSuper Retina XDR Display, 5.4‑inch (Diagonal) All‑screen OLED Display, HDR Display, True Tone, Wide Colour (P3), Haptic Touch, 20,00,000:1 Contrast Ratio (Typical), 800 nits max Brightness (Typical), 1,200 nits max Brightness (HDR), Fingerprint-resistant Oleophobic Coating, Support for Display of Multiple Languages and Characters Simultaneously</td>\n",
       "      <td>128.0</td>\n",
       "      <td>NaN</td>\n",
       "      <td>NaN</td>\n",
       "      <td>iOS 15</td>\n",
       "      <td>NaN</td>\n",
       "    </tr>\n",
       "  </tbody>\n",
       "</table>\n",
       "</div>"
      ],
      "text/plain": [
       "                                        name  ratings  price  \\\n",
       "0  REDMI Note 12 Pro 5G (Onyx Black, 128 GB)      4.2  23999   \n",
       "1        OPPO F11 Pro (Aurora Green, 128 GB)      4.5  20999   \n",
       "2     REDMI Note 11 (Starburst White, 64 GB)      4.2  13149   \n",
       "3     OnePlus Nord CE 5G (Blue Void, 256 GB)      4.1  21999   \n",
       "4        APPLE iPhone 13 mini (Blue, 128 GB)      4.6   3537   \n",
       "\n",
       "                                                                                                                                                  imgURL  \\\n",
       "0                                                   https://rukminim2.flixcart.com/image/312/312/xif0q/mobile/b/r/f/-original-imaghkvuhzwge3za.jpeg?q=70   \n",
       "1  https://rukminim2.flixcart.com/image/312/312/k01b8280pkrrdj/mobile-refurbished/8/w/n/f11-pro-128-d-cph1969-oppo-6-original-imafec8hzfzyg79e.jpeg?q=70   \n",
       "2                                                   https://rukminim2.flixcart.com/image/312/312/xif0q/mobile/m/e/y/-original-imagbgaqje2mygjm.jpeg?q=70   \n",
       "3                                                   https://rukminim2.flixcart.com/image/312/312/xif0q/mobile/x/t/k/-original-imag43fz8bd4hg3d.jpeg?q=70   \n",
       "4                  https://rukminim2.flixcart.com/image/312/312/ktketu80/mobile/a/i/l/iphone-13-mini-mlk93hn-a-apple-original-imag6vp6x67yypzk.jpeg?q=70   \n",
       "\n",
       "                                                                                                                                                                                                                                                                                                                                                                                                                                                                                                                                                                                                                                                                                                  corpus  \\\n",
       "0                                                                                                                                                                                                                                                                  Storage128 GBRAM6  SystemAndroid 12Processor TypeMediatek Dimensity 1080Processor Speed2.6 50MP 8MP 2MP 50MP 16MP 5G Capacity5000 Display Size16.94 cm (6.67 inch)Resolution2400 x 1080 PixelsResolution TypeFull HD+ AMOLED DisplayGPUARM Mali-G68 MC4Display TypeFull HD+ AMOLED DisplayOther Display FeaturesRefresh Rate: 120 Hz, Contrast: 5,000,000:1, 1920Hz PWM Dimming, Brightness Level: 16000:1, Peak Brightness: 900 nits   \n",
       "1  Storage128 GBRAM6 GBExpandable Storage256GB  SystemAndroid Pie 9.0Processor TypeMediaTek Helio P70 Octa Core 2.1 GHzProcessor Speed2.1 48MP 5MP 48MP 5MP 48MP 5MP 48MP 5MP 48MP 5MP 16MP 3G Capacity4000 Display Size16.51 cm (6.5 inch)Resolution2340 x 1080 pixelsResolution TypeFull HD+GPUARM Mali-G72 MP3 at 900 MHzDisplay Colors16MOther Display FeaturesScreen Texture: TFT-LTPS, In-cell Touch Panel Technology, Narrow Frame: 1.70mm (Size from AA to Outside Edge of Glass), Screen Ratio: 90.90%, Screen Contrast: 1500:1 (Typical), Color Saturation: NTSC 81.5% (Typical), Maximum Brightness: 480 nits (Typical), Touch Screen Supplier: DSBJ, TM, Touch Panel Glass Type: Dragontrail   \n",
       "2                                                                                                                                                                                                                                                                                                                                                                                                                                                                                                                                                                  Storage64 GBRAM4  SystemAndroid 11Processor Speed2.4 50MP 4G Capacity5000 Display Size16.33 cm (6.43 inch)Resolution2400 x 1080 pixel   \n",
       "3                                                                                                                                                                                                                                                                                                                                                                                                                                                               Storage256 GBRAM12  SystemAndroid Q 11Processor TypeQualcomm Snapdragon Octa Core 750G 5G ProcessorProcessor Speed2.4 64MP 5G Capacity4500 Display Size16.33 cm (6.43 inch)Resolution2400 x 1080$$pixelsDisplay TypeFluid Amoled Display   \n",
       "4                                                                             Storage128  SystemiOS 15Processor TypeA15 Bionic Chip 12MP 12MP 12MP 63MP 12MP 12MP 5G notMentioned Display Size13.72 cm (5.4 inch)Resolution2340 x 1080 PixelsResolution TypeSuper Retina XDR DisplayDisplay TypeSuper Retina XDR DisplayOther Display FeaturesSuper Retina XDR Display, 5.4‑inch (Diagonal) All‑screen OLED Display, HDR Display, True Tone, Wide Colour (P3), Haptic Touch, 20,00,000:1 Contrast Ratio (Typical), 800 nits max Brightness (Typical), 1,200 nits max Brightness (HDR), Fingerprint-resistant Oleophobic Coating, Support for Display of Multiple Languages and Characters Simultaneously   \n",
       "\n",
       "   Storage   ram  expandable_storage operating_system  battery_capacity  \n",
       "0    128.0   6.0                 NaN       Android 12            5000.0  \n",
       "1    128.0   6.0               256.0  Android Pie 9.0            4000.0  \n",
       "2     64.0   4.0                 NaN       Android 11            5000.0  \n",
       "3    256.0  12.0                 NaN     Android Q 11            4500.0  \n",
       "4    128.0   NaN                 NaN           iOS 15               NaN  "
      ]
     },
     "execution_count": 45,
     "metadata": {},
     "output_type": "execute_result"
    }
   ],
   "source": [
    "data.head()"
   ]
  },
  {
   "cell_type": "markdown",
   "id": "60e9dfad",
   "metadata": {},
   "source": [
    "# visualisation with graph's"
   ]
  },
  {
   "cell_type": "code",
   "execution_count": 96,
   "id": "6902afa2",
   "metadata": {
    "scrolled": true
   },
   "outputs": [
    {
     "data": {
      "image/png": "[encoded data removed]",
      "text/plain": [
       "<Figure size 640x480 with 1 Axes>"
      ]
     },
     "metadata": {},
     "output_type": "display_data"
    }
   ],
   "source": [
    "# visualize price of phones\n",
    "sns.boxplot(y='price',data=data)\n",
    "plt.show()"
   ]
  },
  {
   "cell_type": "code",
   "execution_count": 127,
   "id": "9a396cd3",
   "metadata": {},
   "outputs": [
    {
     "data": {
      "image/png": "[encoded data removed]",
      "text/plain": [
       "<Figure size 1400x600 with 1 Axes>"
      ]
     },
     "metadata": {},
     "output_type": "display_data"
    }
   ],
   "source": [
    "plt.figure(figsize=(14,6))\n",
    "sns.histplot(x='price',data=data,kde=True)\n",
    "plt.title('price distribution')\n",
    "plt.show()"
   ]
  },
  {
   "cell_type": "code",
   "execution_count": 97,
   "id": "305e5330",
   "metadata": {},
   "outputs": [
    {
     "data": {
      "text/plain": [
       "Index(['name', 'ratings', 'price', 'imgURL', 'corpus', 'Storage', 'ram',\n",
       "       'expandable_storage', 'operating_system', 'battery_capacity'],\n",
       "      dtype='object')"
      ]
     },
     "execution_count": 97,
     "metadata": {},
     "output_type": "execute_result"
    }
   ],
   "source": [
    "data.columns"
   ]
  },
  {
   "cell_type": "code",
   "execution_count": 113,
   "id": "c91b90ff",
   "metadata": {},
   "outputs": [
    {
     "data": {
      "text/plain": [
       "8.0      612\n",
       "4.0      574\n",
       "6.0      426\n",
       "3.0      207\n",
       "2.0      145\n",
       "12.0     134\n",
       "1.0       17\n",
       "128.0      9\n",
       "16.0       8\n",
       "64.0       2\n",
       "100.0      2\n",
       "153.0      1\n",
       "512.0      1\n",
       "32.0       1\n",
       "10.0       1\n",
       "Name: ram, dtype: int64"
      ]
     },
     "execution_count": 113,
     "metadata": {},
     "output_type": "execute_result"
    }
   ],
   "source": [
    "# visualize ram of phones\n",
    "data.ram.value_counts()"
   ]
  },
  {
   "cell_type": "code",
   "execution_count": 119,
   "id": "f964afcb",
   "metadata": {},
   "outputs": [
    {
     "data": {
      "image/png": "[encoded data removed]",
      "text/plain": [
       "<Figure size 640x480 with 1 Axes>"
      ]
     },
     "metadata": {},
     "output_type": "display_data"
    }
   ],
   "source": [
    "fig, ax =plt.subplots()\n",
    "sns.countplot(x='ram',data=data)\n",
    "plt.show()"
   ]
  },
  {
   "cell_type": "code",
   "execution_count": 114,
   "id": "3ec59e1f",
   "metadata": {},
   "outputs": [],
   "source": [
    "# visualize price of phones with respect to ram "
   ]
  },
  {
   "cell_type": "code",
   "execution_count": 116,
   "id": "47c3b5be",
   "metadata": {},
   "outputs": [
    {
     "data": {
      "image/png": "[encoded data removed]",
      "text/plain": [
       "<Figure size 640x480 with 1 Axes>"
      ]
     },
     "metadata": {},
     "output_type": "display_data"
    }
   ],
   "source": [
    "sns.barplot(x='ram',y='price',data=data)\n",
    "plt.show()"
   ]
  },
  {
   "cell_type": "code",
   "execution_count": 125,
   "id": "0cf81c5a",
   "metadata": {},
   "outputs": [
    {
     "data": {
      "image/png": "[encoded data removed]",
      "text/plain": [
       "<Figure size 1000x600 with 1 Axes>"
      ]
     },
     "metadata": {},
     "output_type": "display_data"
    }
   ],
   "source": [
    "plt.figure(figsize=(10,6))\n",
    "sns.boxplot(x='ram',y='price',data=data)\n",
    "plt.show()"
   ]
  },
  {
   "cell_type": "code",
   "execution_count": 158,
   "id": "10c29ac1",
   "metadata": {},
   "outputs": [
    {
     "data": {
      "text/plain": [
       "Android 11                             438\n",
       "Android 12                             431\n",
       "Android 13                             226\n",
       "Android 10                             181\n",
       "Android Pie 9                          111\n",
       "                                      ... \n",
       "Android Nougat 11                        1\n",
       "Android ANDROID V12.0                    1\n",
       "Android Q ANDROID 12.0                   1\n",
       "iOS Q HiOS 8.6 based on Android 12       1\n",
       "iOS Q ?HiOS 8.6 based on Android 12      1\n",
       "Name: operating_system, Length: 127, dtype: int64"
      ]
     },
     "execution_count": 158,
     "metadata": {},
     "output_type": "execute_result"
    }
   ],
   "source": [
    "data.operating_system.value_counts()"
   ]
  },
  {
   "cell_type": "code",
   "execution_count": 94,
   "id": "fa37f363",
   "metadata": {},
   "outputs": [
    {
     "data": {
      "text/plain": [
       "array(['Other', None, 'MediaTek'], dtype=object)"
      ]
     },
     "execution_count": 94,
     "metadata": {},
     "output_type": "execute_result"
    }
   ],
   "source": [
    "def clean_processor(operating_system):\n",
    "    \"\"\"Clean the processor values.\"\"\"\n",
    "    if pd.isnull(operating_system):\n",
    "        return None\n",
    "    if 'mediatek' in operating_system.lower():\n",
    "        return 'MediaTek'\n",
    "    if 'qualcomm' in operating_system.lower():\n",
    "        return 'Qualcomm'\n",
    "    if 'apple' in operating_system.lower():\n",
    "        return 'Apple'\n",
    "    return 'Other'\n",
    "\n",
    "# Apply the function to the 'Processor' column\n",
    "data['Processor'] = data['operating_system'].apply(clean_processor)\n",
    "\n",
    "# Check the unique values for 'Processor'\n",
    "unique_processors_clean = data['Processor'].unique()\n",
    "\n",
    "unique_processors_clean"
   ]
  },
  {
   "cell_type": "code",
   "execution_count": 99,
   "id": "b6533300",
   "metadata": {
    "scrolled": true
   },
   "outputs": [
    {
     "data": {
      "text/plain": [
       "Android 11                             438\n",
       "Android 12                             431\n",
       "Android 13                             226\n",
       "Android 10                             181\n",
       "Android Pie 9                          111\n",
       "                                      ... \n",
       "Android Nougat 11                        1\n",
       "Android ANDROID V12.0                    1\n",
       "Android Q ANDROID 12.0                   1\n",
       "iOS Q HiOS 8.6 based on Android 12       1\n",
       "iOS Q ?HiOS 8.6 based on Android 12      1\n",
       "Name: operating_system, Length: 127, dtype: int64"
      ]
     },
     "execution_count": 99,
     "metadata": {},
     "output_type": "execute_result"
    }
   ],
   "source": [
    "data.operating_system.value_counts()"
   ]
  },
  {
   "cell_type": "code",
   "execution_count": 103,
   "id": "8e20ff2f",
   "metadata": {
    "scrolled": false
   },
   "outputs": [
    {
     "data": {
      "text/plain": [
       "array(['Android 12', 'Android Pie 9.0', 'Android 11', 'Android Q 11',\n",
       "       'iOS 15', 'iOS 9', 'Android 13', 'Android Pie 9',\n",
       "       'Android Nougat 7', 'Android 10', 'iOS 16', None,\n",
       "       'Android Q Android Q 12.5', 'Android Oreo 8.1',\n",
       "       'Android Marshmallow 6.0.1', 'Android Oreo 8.1.0',\n",
       "       'Android 13 (Go Edition)', 'Android Android 12', 'Android Q 10',\n",
       "       'iOS 14.2', 'Android Pie Android v9.0 (Pie)', 'Android Andriod 11',\n",
       "       'Android Android 10',\n",
       "       'Android HiOS 8.6 based on Android 12-Go Edition',\n",
       "       'Android Nougat 7.1', 'iOS 14', 'Android Android 13', 'iOS 12',\n",
       "       'Android 12 Go', 'iOS 7', 'Android Nougat 7.1.2',\n",
       "       'Android Oreo V11', 'Android ANdroid 13 OxygenOS',\n",
       "       'Android Android 13.0', 'Android Android v12.0',\n",
       "       'Android Android 11', 'Android Pie 10', 'Android Oreo 8.0', 'Q 10',\n",
       "       'Android Q ANDROID 10', 'Android Q 12', 'iOS 13',\n",
       "       'Android Android 11 Go', 'Android 10 (Go Edition)',\n",
       "       'Android Oxygen OxygenOS based on Android 13',\n",
       "       'Series 30 Feature phone', 'Android Lollipop 5.1', 'Android Q 111',\n",
       "       'iOS 8', 'Android Q Android 11',\n",
       "       'Android ?HiOS 12.0 based on Android 12',\n",
       "       'Android Android 11 (Go edition)', 'Android Android 12.0',\n",
       "       'Android Lollipop 5.0.2', 'Android MIUI 13, Android 12.0',\n",
       "       'Android Lollipop Color OS 3.0 based on Android 5.1',\n",
       "       'Android Nougat 7.1.1', 'Android KitKat 4.4.2',\n",
       "       'Android 11 (Go edition)', 'Android Android13', 'Android Q 10.0V',\n",
       "       'Android KitKat 1', 'Android OxygenOS based on Android 13',\n",
       "       'Android KitKat 4.4', 'Android Funtouch OS 12', '1',\n",
       "       'Android Q V11.0', 'Android Android Oxygen Android 12', 'iOS 11',\n",
       "       'Android Oreo 8', 'Android MIUI 14, Android 13.0',\n",
       "       'Android Oxygen 12', 'Android Pie Oxygen',\n",
       "       'Android Lollipop 5.1.1', 'Android Q V10', 'Android Android12',\n",
       "       'Android Q Android', 'Android Oxygen 11', 'Android 12.5',\n",
       "       'Android Q Android Q Android 11', 'Android Q Android 10',\n",
       "       'Android Q Funtouch OS 13 (Based on Android 13)',\n",
       "       'Android Marshmallow 6', 'Android Q Android 13.0',\n",
       "       'Android Q 10.0', 'Android Q ?Android 13.0',\n",
       "       'Android Q Android 12', 'Android Nougat 11',\n",
       "       'Android ANDROID V12.0', 'Android Q Android 11 (Go Edition)',\n",
       "       'Android Q ANDROID 12.0', 'iOS Q HiOS 8.6 based on Android 12',\n",
       "       'Android Jelly Bean 4.2', 'Android 12 (Go Edition)',\n",
       "       'Android Q 13', 'Android Oxygen 12.1',\n",
       "       'Android ColorOS 13.1 on top of Android 13',\n",
       "       'Android Q ColorOS 12.1. 1', 'Android Pie 9 Pie OxygenOS',\n",
       "       'Android Q Android 12, One UI Core 4.1', 'Android',\n",
       "       'Android Q 10.1', 'Android ANDROID 11 GO AUDITION', 'Series 30',\n",
       "       'Android Q Android 12, ColorOS 12.1',\n",
       "       'Android ?MIUI 13, Android 12.0', 'Android Oxygen Android 12',\n",
       "       'Android HiOS 12.0 based on Android 12', 'Android Oxygen 11.3',\n",
       "       'Android Q MIUI 13, Android 12.0', 'Android Q 11.1',\n",
       "       'Android Funtouch OS 11 (Based on Android 11)',\n",
       "       'Android Mediatek Helio P35', 'Android Q Android Q 10',\n",
       "       'Android Android v9.0 Pie', 'Android Pie Oxygen OS',\n",
       "       'Android Q Android 11::ColorOS 12.1', 'Tizen',\n",
       "       'Android 11 (Go Edition)', 'Android Android 13 OxygenOS',\n",
       "       'Android Pie android version 10',\n",
       "       'Android HiOS 12.0 based on Android 13', 'Android Jelly Bean 4.3',\n",
       "       'Android Q Android 11, ColorOS 12.1', 'Android Oreo 10',\n",
       "       'Android KitKat 4.4.4', 'Android MIUI 12, Android 11.0',\n",
       "       'iOS Q ?HiOS 8.6 based on Android 12'], dtype=object)"
      ]
     },
     "execution_count": 103,
     "metadata": {},
     "output_type": "execute_result"
    }
   ],
   "source": [
    "def clean_system(operating_system):\n",
    "    \"\"\"Clean the system values.\"\"\"\n",
    "    if pd.isnull(operating_system):\n",
    "        return None\n",
    "    if 'android' in operating_system.lower():\n",
    "        return 'Android'\n",
    "    if 'ios' in operating_system.lower():\n",
    "        return 'iOS'\n",
    "    if 'tizen' in operating_system.lower():\n",
    "        return 'Tizen'\n",
    "    return system\n",
    "\n",
    "# Apply the function to the 'System' column\n",
    "data['System'] = data['operating_system'].apply(clean_system)\n",
    "\n",
    "# Check the unique values for 'System'\n",
    "unique_systems_clean = data['operating_system'].unique()\n",
    "\n",
    "unique_systems_clean"
   ]
  },
  {
   "cell_type": "code",
   "execution_count": 105,
   "id": "9e062bfb",
   "metadata": {},
   "outputs": [],
   "source": [
    "data.drop(['Processor'],axis=1,inplace=True)"
   ]
  },
  {
   "cell_type": "code",
   "execution_count": null,
   "id": "66fb8b89",
   "metadata": {},
   "outputs": [],
   "source": []
  },
  {
   "cell_type": "markdown",
   "id": "c445f65e",
   "metadata": {},
   "source": [
    "# train the model using ML "
   ]
  },
  {
   "cell_type": "code",
   "execution_count": 147,
   "id": "12ef1c42",
   "metadata": {},
   "outputs": [
    {
     "data": {
      "text/plain": [
       "name                     0\n",
       "ratings                  0\n",
       "price                    0\n",
       "imgURL                   0\n",
       "corpus                   0\n",
       "Storage                  6\n",
       "ram                    394\n",
       "expandable_storage    1418\n",
       "operating_system        65\n",
       "battery_capacity       328\n",
       "dtype: int64"
      ]
     },
     "execution_count": 147,
     "metadata": {},
     "output_type": "execute_result"
    }
   ],
   "source": [
    "data.isnull().sum()"
   ]
  },
  {
   "cell_type": "code",
   "execution_count": 124,
   "id": "7bbc556c",
   "metadata": {},
   "outputs": [
    {
     "name": "stdout",
     "output_type": "stream",
     "text": [
      "<class 'pandas.core.frame.DataFrame'>\n",
      "Int64Index: 1111 entries, 1 to 2541\n",
      "Data columns (total 11 columns):\n",
      " #   Column              Non-Null Count  Dtype  \n",
      "---  ------              --------------  -----  \n",
      " 0   name                1111 non-null   object \n",
      " 1   ratings             1111 non-null   float64\n",
      " 2   price               1111 non-null   int32  \n",
      " 3   imgURL              1111 non-null   object \n",
      " 4   corpus              1111 non-null   object \n",
      " 5   Storage             1111 non-null   float64\n",
      " 6   ram                 1111 non-null   float64\n",
      " 7   expandable_storage  1111 non-null   float64\n",
      " 8   operating_system    1111 non-null   object \n",
      " 9   battery_capacity    1111 non-null   float64\n",
      " 10  System              1111 non-null   object \n",
      "dtypes: float64(5), int32(1), object(5)\n",
      "memory usage: 99.8+ KB\n"
     ]
    }
   ],
   "source": [
    "data.info()"
   ]
  },
  {
   "cell_type": "code",
   "execution_count": 144,
   "id": "a5f7b50a",
   "metadata": {},
   "outputs": [],
   "source": [
    "X=data[['ratings','Storage','ram','expandable_storage','System','battery_capacity']]\n",
    "y=data['price']"
   ]
  },
  {
   "cell_type": "code",
   "execution_count": 159,
   "id": "08d834c2",
   "metadata": {},
   "outputs": [],
   "source": [
    "X_train,X_test,y_train,y_test=train_test_split(X_en,y,test_size=0.2)\n"
   ]
  },
  {
   "cell_type": "code",
   "execution_count": 160,
   "id": "94c69811",
   "metadata": {},
   "outputs": [
    {
     "data": {
      "text/plain": [
       "array([[ 9.,  5.,  5.,  0.,  0., 35.],\n",
       "       [ 8.,  4.,  2.,  6.,  0., 35.],\n",
       "       [ 9.,  5.,  4.,  8.,  0., 32.],\n",
       "       ...,\n",
       "       [ 9.,  5.,  5.,  0.,  0., 35.],\n",
       "       [ 9.,  3.,  2.,  8.,  0., 20.],\n",
       "       [ 8.,  5.,  4.,  8.,  0., 40.]])"
      ]
     },
     "execution_count": 160,
     "metadata": {},
     "output_type": "execute_result"
    }
   ],
   "source": [
    "X_train"
   ]
  },
  {
   "cell_type": "code",
   "execution_count": 161,
   "id": "1f29351f",
   "metadata": {},
   "outputs": [
    {
     "data": {
      "text/plain": [
       "(888, 6)"
      ]
     },
     "execution_count": 161,
     "metadata": {},
     "output_type": "execute_result"
    }
   ],
   "source": [
    "X_train.shape"
   ]
  },
  {
   "cell_type": "code",
   "execution_count": 165,
   "id": "33607057",
   "metadata": {},
   "outputs": [
    {
     "data": {
      "text/plain": [
       "LinearRegression()"
      ]
     },
     "execution_count": 165,
     "metadata": {},
     "output_type": "execute_result"
    }
   ],
   "source": [
    "reg_model = LinearRegression()\n",
    "\n",
    "# Train the model on the training set\n",
    "reg_model.fit(X_train, y_train)"
   ]
  },
  {
   "cell_type": "code",
   "execution_count": 166,
   "id": "b3ac6c3d",
   "metadata": {},
   "outputs": [],
   "source": [
    "y_pred = reg_model.predict(X_test)"
   ]
  },
  {
   "cell_type": "code",
   "execution_count": 171,
   "id": "a353410b",
   "metadata": {
    "collapsed": true
   },
   "outputs": [
    {
     "data": {
      "text/plain": [
       "array([22017.78227092, 20990.79924226,  8784.32141288, 15503.55759563,\n",
       "       13110.67409915,  6218.85110319, 11909.86527731, 13148.43532346,\n",
       "       10761.84536438, 16358.28892217, 15747.31126326, 19823.61674451,\n",
       "       13365.07689838, 13205.24471548, 15563.37635523, 16424.40121916,\n",
       "       23097.59155859, 17054.09193467, 19049.96509066, 12286.33903512,\n",
       "       12298.92610989, 20473.54146926,  8889.11459139, 16168.00733832,\n",
       "       12631.17755046, 12931.79374855, 18124.71273448,  4469.09515766,\n",
       "       21808.67321336,  7904.21103115, 13581.71847329, 10078.24020733,\n",
       "       12727.7392484 ,  5531.16515413, 13110.67409915, 13687.75063177,\n",
       "       19695.41980409, 20473.54146926, 15945.07222602, 16236.21796358,\n",
       "        8784.32141288,  8771.56678256, 20040.25831943, 18643.9615891 ,\n",
       "        8165.86437506, 21847.35409487, 12931.79374855, 22708.53072601,\n",
       "       12244.10779949,  6014.79660304, 12894.03252424, 12944.38082332,\n",
       "       17920.65823433, 19823.61674451, 12031.9362359 , 22017.78227092,\n",
       "       13110.67409915, 13365.07689838, 20534.11233052, 12027.46622458,\n",
       "       17653.66836034, 16565.18523435,  7037.64473149, 13365.07689838,\n",
       "        8834.66971196, 20256.89989434,  5798.15502813, 10341.14928932,\n",
       "       13161.02239823, 15267.07840125, 17954.28455843, 21980.02104661,\n",
       "       10947.01925237, 13377.66397315, 18771.23887232, 18643.9615891 ,\n",
       "       20149.52150925, 14527.78938481, 24999.59306147, 13110.67409915,\n",
       "       12357.84100064, 18643.9615891 , 17058.56194599, 19070.783646  ,\n",
       "       12244.10779949,  9000.9629878 ,  5607.92658272, 20022.39599325,\n",
       "       16574.93049708, 18764.94533494, 18942.58670557, 19695.41980409,\n",
       "        8184.74498722, 11404.97291531,  6181.08987888, 12770.30559513,\n",
       "       12460.74937441, 15286.91602071, 12894.03252424, 13321.92600555,\n",
       "        9907.86613949, 16035.34038658, 12298.92610989, 17092.18827009,\n",
       "        8382.50594998,  8605.44106228, 18337.95572249, 14889.57056912,\n",
       "       12244.10779949, 17691.42958465, 15483.71997617, 13327.31567407,\n",
       "       21986.314584  ,  6014.79660304,  5798.15502813, 15521.48120048,\n",
       "       21763.3794717 , 21808.67321336, 19657.32346868, 10947.01925237,\n",
       "       13543.95724898, 12069.69746021, 14273.38658559, 19390.33359468,\n",
       "       10418.07827345, 17158.30056708, 12931.79374855, 20090.60661851,\n",
       "        7954.55933023, 19644.73639391, 17058.56194599, 21981.09247103,\n",
       "       21400.67863018, 11838.25606514, 12082.28453498,  8623.02858626,\n",
       "       21330.09632187, 15535.02528255, 16218.40877584, 20774.15766735,\n",
       "       17691.42958465, 13971.69896308,  6625.49945975, 14840.08878881,\n",
       "       20607.86439151,  6181.08987888, 14902.15764389, 14889.57056912,\n",
       "       17920.65823433, 18567.18437217, 16641.04279408,  5964.44830396,\n",
       "        8156.28666788,  7904.21103115, 16168.00733832, 20040.25831943,\n",
       "       12894.03252424, 12931.79374855, 11865.64296006, 17908.07115956,\n",
       "       17653.66836034, 17487.3750845 ,  8605.44106228,  6218.85110319,\n",
       "       20607.86439151,  8839.67016117, 12894.03252424, 20256.89989434,\n",
       "       16161.71380093, 20124.2329426 , 23097.59155859, 20040.25831943,\n",
       "       15267.07840125,  5747.80672905, 18764.94533494,  9038.72421211,\n",
       "       13365.07689838,  6218.85110319, 17748.23897667, 17437.02678542,\n",
       "       12931.79374855, 11876.93694666, 17437.02678542, 15734.72418849,\n",
       "       13581.71847329,  8605.44106228, 15304.83962556, 12286.33903512,\n",
       "       13148.43532346, 20090.60661851, 12944.38082332, 18350.54279726,\n",
       "       14961.07253464, 14400.51210159, 13377.66397315,  7508.68910563,\n",
       "       21297.54142218, 12894.03252424, 12254.8713482 , 15218.5378399 ,\n",
       "       12931.79374855, 11404.97291531, 18654.55758225,  8784.32141288,\n",
       "       14273.38658559,  6648.73566612, 10545.20378946,  5747.80672905,\n",
       "       17653.66836034, 12894.03252424,  7954.55933023, 17220.38521051,\n",
       "       16168.00733832, 14183.87052668, 22196.66262153, 18321.01305351,\n",
       "       14744.43095972, 14829.47700731, 13365.07689838, 12248.57781081,\n",
       "       20557.51609243,  9984.79512362, 10290.80099024])"
      ]
     },
     "execution_count": 171,
     "metadata": {},
     "output_type": "execute_result"
    }
   ],
   "source": [
    "y_pred"
   ]
  },
  {
   "cell_type": "code",
   "execution_count": 172,
   "id": "a8c198f5",
   "metadata": {
    "collapsed": true
   },
   "outputs": [
    {
     "data": {
      "text/plain": [
       "8       16999\n",
       "2335    17464\n",
       "1744    12989\n",
       "1641    14999\n",
       "1686    16990\n",
       "        ...  \n",
       "1473    10499\n",
       "599      9999\n",
       "1529    24537\n",
       "12      10990\n",
       "796     10999\n",
       "Name: price, Length: 223, dtype: int32"
      ]
     },
     "execution_count": 172,
     "metadata": {},
     "output_type": "execute_result"
    }
   ],
   "source": [
    "y_test"
   ]
  },
  {
   "cell_type": "code",
   "execution_count": 176,
   "id": "85012809",
   "metadata": {},
   "outputs": [],
   "source": [
    "from sklearn.metrics import mean_squared_error\n",
    "from sklearn.metrics import r2_score\n",
    "    "
   ]
  },
  {
   "cell_type": "code",
   "execution_count": 174,
   "id": "404d3943",
   "metadata": {},
   "outputs": [
    {
     "data": {
      "text/plain": [
       "14926602.049907073"
      ]
     },
     "execution_count": 174,
     "metadata": {},
     "output_type": "execute_result"
    }
   ],
   "source": [
    "mean_squared_error(y_test, y_pred)"
   ]
  },
  {
   "cell_type": "code",
   "execution_count": 177,
   "id": "7ce4414c",
   "metadata": {},
   "outputs": [
    {
     "data": {
      "text/plain": [
       "0.5738499535359083"
      ]
     },
     "execution_count": 177,
     "metadata": {},
     "output_type": "execute_result"
    }
   ],
   "source": [
    "r2_score(y_test,y_pred)"
   ]
  },
  {
   "cell_type": "code",
   "execution_count": 178,
   "id": "9a5d7624",
   "metadata": {},
   "outputs": [],
   "source": [
    "# random forest model "
   ]
  },
  {
   "cell_type": "code",
   "execution_count": 183,
   "id": "f95a3260",
   "metadata": {},
   "outputs": [
    {
     "data": {
      "text/plain": [
       "Index(['name', 'ratings', 'price', 'imgURL', 'corpus', 'Storage', 'ram',\n",
       "       'expandable_storage', 'operating_system', 'battery_capacity', 'System'],\n",
       "      dtype='object')"
      ]
     },
     "execution_count": 183,
     "metadata": {},
     "output_type": "execute_result"
    }
   ],
   "source": [
    "data.columns"
   ]
  },
  {
   "cell_type": "code",
   "execution_count": 184,
   "id": "38207725",
   "metadata": {},
   "outputs": [
    {
     "data": {
      "text/plain": [
       "(1111, 11)"
      ]
     },
     "execution_count": 184,
     "metadata": {},
     "output_type": "execute_result"
    }
   ],
   "source": [
    "data.shape"
   ]
  },
  {
   "cell_type": "markdown",
   "id": "19c59e4d",
   "metadata": {},
   "source": [
    "# Recommender system"
   ]
  },
  {
   "cell_type": "code",
   "execution_count": 186,
   "id": "02a32301",
   "metadata": {},
   "outputs": [
    {
     "data": {
      "text/plain": [
       "array([[ 1.        , -0.62213409,  0.41602579, ..., -0.16998227,\n",
       "        -0.94374171, -0.58682442],\n",
       "       [-0.62213409,  1.        , -0.67382995, ..., -0.56605822,\n",
       "         0.36194348,  0.96388162],\n",
       "       [ 0.41602579, -0.67382995,  1.        , ...,  0.73501038,\n",
       "        -0.3176219 , -0.8323124 ],\n",
       "       [ 0.50069786,  0.25491051, -0.4962071 , ..., -0.92802203,\n",
       "        -0.63539178,  0.37818181],\n",
       "       [-0.78765713,  0.86005447, -0.77845852, ..., -0.41016844,\n",
       "         0.67120913,  0.90960461]])"
      ]
     },
     "execution_count": 186,
     "metadata": {},
     "output_type": "execute_result"
    }
   ],
   "source": [
    "from sklearn.preprocessing import StandardScaler\n",
    "from sklearn.metrics.pairwise import cosine_similarity\n",
    "\n",
    "# select numeric features\n",
    "\n",
    "features=['ratings','price','Storage','ram','battery_capacity']\n",
    "data_subset=data[features]\n",
    "\n",
    "# standardise the features\n",
    "scaler=StandardScaler()\n",
    "data_subset_scaled=scaler.fit_transform(data_subset)\n",
    "\n",
    "#compute the cosine similarity\n",
    "similarity_matrix=cosine_similarity(data_subset_scaled)\n",
    "similarity_matrix[:5]"
   ]
  },
  {
   "cell_type": "markdown",
   "id": "0cc2dcf9",
   "metadata": {},
   "source": [
    "# getting product recommendation based on model"
   ]
  },
  {
   "cell_type": "code",
   "execution_count": 222,
   "id": "91678b3e",
   "metadata": {
    "collapsed": true
   },
   "outputs": [
    {
     "data": {
      "application/vnd.jupyter.widget-view+json": {
       "model_id": "a39ab5ffc3b048c1bb661a9d6bb12c68",
       "version_major": 2,
       "version_minor": 0
      },
      "text/plain": [
       "Dropdown(description='Product name:', options=('OPPO F11 Pro (Aurora Green, 128 GB)', 'Infinix Hot 11 (Emerald…"
      ]
     },
     "metadata": {},
     "output_type": "display_data"
    },
    {
     "data": {
      "application/vnd.jupyter.widget-view+json": {
       "model_id": "d9807ce18245407aa529a8717d25273b",
       "version_major": 2,
       "version_minor": 0
      },
      "text/plain": [
       "Button(description='recommend phones', style=ButtonStyle())"
      ]
     },
     "metadata": {},
     "output_type": "display_data"
    },
    {
     "data": {
      "application/vnd.jupyter.widget-view+json": {
       "model_id": "da088b572e9843b39cb61711f39f168b",
       "version_major": 2,
       "version_minor": 0
      },
      "text/plain": [
       "Output()"
      ]
     },
     "metadata": {},
     "output_type": "display_data"
    }
   ],
   "source": [
    "import ipywidgets as widgets\n",
    "from IPython.display import display, Image\n",
    "from sklearn.preprocessing import StandardScaler\n",
    "from sklearn.metrics.pairwise import cosine_similarity\n",
    "\n",
    "# function to recommend products\n",
    "def recommend_products(product_name,data,features,num_recommendations=5):\n",
    "        \n",
    "        # select the specified feature and select them \n",
    "        features=['ratings','price','Storage','ram','battery_capacity']\n",
    "        \n",
    "        scaler=StandardScaler()\n",
    "        data_scaled=scaler.fit_transform(data[features])\n",
    "        \n",
    "        # create a dataframe from scaled_data\n",
    "        data_scaled=pd.DataFrame(data_scaled,index=data.index,columns=features)\n",
    "        \n",
    "        # similarity matrix\n",
    "        similarity_matrix=cosine_similarity(data_scaled)\n",
    "        \n",
    "        # Create a Series from the similarity matrix using the product names as the index\n",
    "        product_similarities = pd.Series(similarity_matrix[data.index[data['name'] == product_name][0]], index=data['name'])\n",
    "        \n",
    "            # Get the top products with the highest cosine similarity\n",
    "        top_products = product_similarities.sort_values(ascending=False).head(num_recommendations + 1)\n",
    "    \n",
    "        # Remove the input product itself from the recommendations\n",
    "        top_products = top_products.iloc[1:]\n",
    "    \n",
    "        return top_products\n",
    "    \n",
    "# drop down widgets for product selection \n",
    "\n",
    "product_dropdown = widgets.Dropdown(\n",
    "    options=data['name'].unique(),\n",
    "    description='Product name:',\n",
    "    disabled=False,\n",
    ")\n",
    "\n",
    "# button to trigger the recommendation \n",
    "button=widgets.Button(description='recommend phones')\n",
    "\n",
    "# output widgets to display the recommendation\n",
    "\n",
    "output=widgets.Output()\n",
    "\n",
    "display(product_dropdown,button,output)\n",
    "\n",
    "def recommend(button):\n",
    "    # clear previous output\n",
    "    output.clear_output()\n",
    "    \n",
    "    # get selected product\n",
    "    product_name=product_dropdown.value\n",
    "    \n",
    "    # get recommendations\n",
    "    \n",
    "    features=['ratings','price','Storage','ram','battery_capacity']\n",
    "    recommendations=recommend_products(product_name,data,features)\n",
    "\n",
    "    # display recommendations\n",
    "    with output:\n",
    "        for product in recommendations.index:\n",
    "            img_url=data.loc[data['name']==product,'imgURL'].values[0]\n",
    "            display(Image(url=img_url))\n",
    "            print(f'product:{product},Similarity Score: {recommendations[product]}')\n",
    "            \n",
    "button.on_click(recommend)"
   ]
  },
  {
   "cell_type": "code",
   "execution_count": 202,
   "id": "cb91d840",
   "metadata": {
    "collapsed": true
   },
   "outputs": [
    {
     "data": {
      "application/vnd.jupyter.widget-view+json": {
       "model_id": "d7d6e45b1fae4cfdad3b0c2cde313f5b",
       "version_major": 2,
       "version_minor": 0
      },
      "text/plain": [
       "Dropdown(description='Product name:', options=('OPPO F11 Pro (Aurora Green, 128 GB)', 'Infinix Hot 11 (Emerald…"
      ]
     },
     "metadata": {},
     "output_type": "display_data"
    },
    {
     "data": {
      "application/vnd.jupyter.widget-view+json": {
       "model_id": "6782549b51344e9db127f6da381fcc84",
       "version_major": 2,
       "version_minor": 0
      },
      "text/plain": [
       "Button(description='recommend phones', style=ButtonStyle())"
      ]
     },
     "metadata": {},
     "output_type": "display_data"
    },
    {
     "data": {
      "application/vnd.jupyter.widget-view+json": {
       "model_id": "dc34b4dde8fc4beb8edd74c2bdd59983",
       "version_major": 2,
       "version_minor": 0
      },
      "text/plain": [
       "Output()"
      ]
     },
     "metadata": {},
     "output_type": "display_data"
    }
   ],
   "source": [
    "# drop down widgets for product selection \n",
    "\n",
    "product_dropdown = widgets.Dropdown(\n",
    "    options=data['name'].unique(),\n",
    "    description='Product name:',\n",
    "    disabled=False,\n",
    ")\n",
    "\n",
    "# button to trigger the recommendation \n",
    "button=widgets.Button(description='recommend phones')\n",
    "\n",
    "# output widgets to display the recommendation\n",
    "\n",
    "output=widgets.Output()\n",
    "\n",
    "display(product_dropdown,button,output)\n",
    "\n",
    "def recommend(button):\n",
    "    # clear previous output\n",
    "    output.clear_output()\n",
    "    \n",
    "    # get selected product\n",
    "    product_name=product_dropdown.value\n",
    "    \n",
    "    # get recommendations\n",
    "    \n",
    "    features=['ratings','price','Storage','ram','battery_capacity']\n",
    "    recommendations=recommend_products(product_name,data,features)\n",
    "\n",
    "    # display recommendations\n",
    "    with output:\n",
    "        for product in recommendations.index:\n",
    "            img_url=data.loc[data['name']==product,'imgURL'].values[0]\n",
    "            display(Image(url=img_url))\n",
    "            print(f'product:{product},Similarity Score: {recommendations[product]}')\n",
    "            \n",
    "button.on_click(recommend)"
   ]
  },
  {
   "cell_type": "code",
   "execution_count": null,
   "id": "89ffbf8a",
   "metadata": {},
   "outputs": [],
   "source": []
  },
  {
   "cell_type": "markdown",
   "id": "4a673fee",
   "metadata": {},
   "source": [
    "# price prediction model "
   ]
  },
  {
   "cell_type": "code",
   "execution_count": 213,
   "id": "5b514121",
   "metadata": {},
   "outputs": [
    {
     "name": "stdout",
     "output_type": "stream",
     "text": [
      "LinearRegression MAE:  2843.0575363687844\n",
      "DecisionTreeRegressor MAE:  2312.6165738692257\n",
      "RandomForestRegressor MAE:  2296.618790979188\n",
      "SVR MAE:  4362.99953064861\n",
      "GradientBoostingRegressor MAE:  2285.991519667071\n"
     ]
    }
   ],
   "source": [
    "import pandas as pd\n",
    "from sklearn.model_selection import train_test_split\n",
    "from sklearn.linear_model import LinearRegression\n",
    "from sklearn.tree import DecisionTreeRegressor\n",
    "from sklearn.ensemble import RandomForestRegressor, GradientBoostingRegressor\n",
    "from sklearn.svm import SVR\n",
    "from sklearn.metrics import mean_absolute_error\n",
    "from sklearn.preprocessing import OneHotEncoder\n",
    "\n",
    "# Select relevant columns for model training\n",
    "selected_columns = ['ratings','price','Storage','ram','battery_capacity']\n",
    "data_selected = data[selected_columns]\n",
    "\n",
    "# Separate features (X) and target (y)\n",
    "X = data_selected.drop(columns=['price'])\n",
    "y = data_selected['price']\n",
    "\n",
    "# Now split the data into training and testing sets\n",
    "X_train, X_test, y_train, y_test = train_test_split(X, y, test_size=0.2, random_state=0)\n",
    "\n",
    "# Initialize all the models\n",
    "models = [\n",
    "    LinearRegression(),\n",
    "    DecisionTreeRegressor(random_state=0),\n",
    "    RandomForestRegressor(n_estimators=100, random_state=0),\n",
    "    SVR(),\n",
    "    GradientBoostingRegressor(random_state=0)\n",
    "]\n",
    "\n",
    "# Train and evaluate each model\n",
    "for model in models:\n",
    "    model_name = model.__class__.__name__\n",
    "    \n",
    "    # Train the model\n",
    "    model.fit(X_train, y_train)\n",
    "    \n",
    "    # Make predictions on the test set\n",
    "    predictions = model.predict(X_test)\n",
    "    \n",
    "    # Calculate the mean absolute error of the predictions\n",
    "    mae = mean_absolute_error(y_test, predictions)\n",
    "    \n",
    "    print(f\"{model_name} MAE: \", mae)"
   ]
  },
  {
   "cell_type": "code",
   "execution_count": null,
   "id": "64da7cc2",
   "metadata": {},
   "outputs": [],
   "source": []
  },
  {
   "cell_type": "code",
   "execution_count": 218,
   "id": "df7137cf",
   "metadata": {},
   "outputs": [
    {
     "data": {
      "text/plain": [
       "Index(['name', 'ratings', 'price', 'imgURL', 'corpus', 'Storage', 'ram',\n",
       "       'expandable_storage', 'operating_system', 'battery_capacity', 'System'],\n",
       "      dtype='object')"
      ]
     },
     "execution_count": 218,
     "metadata": {},
     "output_type": "execute_result"
    }
   ],
   "source": [
    "data.columns"
   ]
  },
  {
   "cell_type": "code",
   "execution_count": null,
   "id": "43a7cbe9",
   "metadata": {
    "scrolled": true
   },
   "outputs": [],
   "source": []
  },
  {
   "cell_type": "code",
   "execution_count": null,
   "id": "ad836146",
   "metadata": {},
   "outputs": [],
   "source": []
  },
  {
   "cell_type": "code",
   "execution_count": null,
   "id": "b1c6c6b9",
   "metadata": {},
   "outputs": [],
   "source": []
  }
 ],
 "metadata": {
  "kernelspec": {
   "display_name": "Python 3 (ipykernel)",
   "language": "python",
   "name": "python3"
  },
  "language_info": {
   "codemirror_mode": {
    "name": "ipython",
    "version": 3
   },
   "file_extension": ".py",
   "mimetype": "text/x-python",
   "name": "python",
   "nbconvert_exporter": "python",
   "pygments_lexer": "ipython3",
   "version": "3.9.13"
  }
 },
 "nbformat": 4,
 "nbformat_minor": 5
}
