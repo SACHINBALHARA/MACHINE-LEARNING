{
 "cells": [
  {
   "cell_type": "code",
   "execution_count": 1,
   "id": "866f40ff",
   "metadata": {},
   "outputs": [],
   "source": [
    "import pandas as pd\n",
    "import numpy as np\n",
    "\n",
    "import matplotlib.pyplot as plt\n",
    "import seaborn as sns\n",
    "\n",
    "import datetime\n",
    "\n"
   ]
  },
  {
   "cell_type": "code",
   "execution_count": 2,
   "id": "e243aecc",
   "metadata": {},
   "outputs": [],
   "source": [
    "# load the dataset"
   ]
  },
  {
   "cell_type": "code",
   "execution_count": 3,
   "id": "2860226a",
   "metadata": {},
   "outputs": [],
   "source": [
    "samsung_data=pd.read_csv(r'C:\\Users\\SACHIN\\Downloads\\samsung_mobile_new_data.csv')"
   ]
  },
  {
   "cell_type": "code",
   "execution_count": 4,
   "id": "253539c3",
   "metadata": {},
   "outputs": [
    {
     "data": {
      "text/plain": [
       "(576, 10)"
      ]
     },
     "execution_count": 4,
     "metadata": {},
     "output_type": "execute_result"
    }
   ],
   "source": [
    "samsung_data.shape"
   ]
  },
  {
   "cell_type": "code",
   "execution_count": 5,
   "id": "52a30b7f",
   "metadata": {},
   "outputs": [
    {
     "data": {
      "text/html": [
       "<div>\n",
       "<style scoped>\n",
       "    .dataframe tbody tr th:only-of-type {\n",
       "        vertical-align: middle;\n",
       "    }\n",
       "\n",
       "    .dataframe tbody tr th {\n",
       "        vertical-align: top;\n",
       "    }\n",
       "\n",
       "    .dataframe thead th {\n",
       "        text-align: right;\n",
       "    }\n",
       "</style>\n",
       "<table border=\"1\" class=\"dataframe\">\n",
       "  <thead>\n",
       "    <tr style=\"text-align: right;\">\n",
       "      <th></th>\n",
       "      <th>name</th>\n",
       "      <th>ratings</th>\n",
       "      <th>price</th>\n",
       "      <th>imgURL</th>\n",
       "      <th>storage_ram</th>\n",
       "      <th>os_processor</th>\n",
       "      <th>camera</th>\n",
       "      <th>display</th>\n",
       "      <th>network</th>\n",
       "      <th>battery</th>\n",
       "    </tr>\n",
       "  </thead>\n",
       "  <tbody>\n",
       "    <tr>\n",
       "      <th>0</th>\n",
       "      <td>SAMSUNG Galaxy F13 (Sunrise Copper, 64 GB)</td>\n",
       "      <td>4.3</td>\n",
       "      <td>₹9,499</td>\n",
       "      <td>https://rukminim2.flixcart.com/image/312/312/x...</td>\n",
       "      <td>Internal Storage64 GBRAM4 GBExpandable Storage...</td>\n",
       "      <td>Operating SystemAndroid 12Processor TypeExynos...</td>\n",
       "      <td>Primary Camera AvailableYesPrimary Camera50MP ...</td>\n",
       "      <td>Display Size16.76 cm (6.6 inch)Resolution2408 ...</td>\n",
       "      <td>Network Type4G, 3G, 2GSupported Networks4G LTE...</td>\n",
       "      <td>Battery Capacity6000 mAhDual BatteryNo</td>\n",
       "    </tr>\n",
       "    <tr>\n",
       "      <th>1</th>\n",
       "      <td>SAMSUNG Galaxy F13 (Waterfall Blue, 128 GB)</td>\n",
       "      <td>4.3</td>\n",
       "      <td>₹10,499</td>\n",
       "      <td>https://rukminim2.flixcart.com/image/312/312/x...</td>\n",
       "      <td>Internal Storage128 GBRAM4 GBExpandable Storag...</td>\n",
       "      <td>Operating SystemAndroid 12Processor TypeExynos...</td>\n",
       "      <td>Primary Camera AvailableYesPrimary Camera50MP ...</td>\n",
       "      <td>Display Size16.76 cm (6.6 inch)Resolution2408 ...</td>\n",
       "      <td>Network Type4G, 3G, 2GSupported Networks4G LTE...</td>\n",
       "      <td>Battery Capacity6000 mAhDual BatteryNo</td>\n",
       "    </tr>\n",
       "    <tr>\n",
       "      <th>2</th>\n",
       "      <td>SAMSUNG Galaxy F13 (Nightsky Green, 128 GB)</td>\n",
       "      <td>4.3</td>\n",
       "      <td>₹10,499</td>\n",
       "      <td>https://rukminim2.flixcart.com/image/312/312/x...</td>\n",
       "      <td>Internal Storage128 GBRAM4 GBExpandable Storag...</td>\n",
       "      <td>Operating SystemAndroid 12Processor TypeExynos...</td>\n",
       "      <td>Primary Camera AvailableYesPrimary Camera50MP ...</td>\n",
       "      <td>Display Size16.76 cm (6.6 inch)Resolution2408 ...</td>\n",
       "      <td>Network Type4G, 3G, 2GSupported Networks4G LTE...</td>\n",
       "      <td>Battery Capacity6000 mAhDual BatteryNo</td>\n",
       "    </tr>\n",
       "    <tr>\n",
       "      <th>3</th>\n",
       "      <td>SAMSUNG Galaxy F13 (Sunrise Copper, 128 GB)</td>\n",
       "      <td>4.3</td>\n",
       "      <td>₹10,499</td>\n",
       "      <td>https://rukminim2.flixcart.com/image/312/312/x...</td>\n",
       "      <td>Internal Storage128 GBRAM4 GBExpandable Storag...</td>\n",
       "      <td>Operating SystemAndroid 12Processor TypeExynos...</td>\n",
       "      <td>Primary Camera AvailableYesPrimary Camera50MP ...</td>\n",
       "      <td>Display Size16.76 cm (6.6 inch)Resolution2408 ...</td>\n",
       "      <td>Network Type4G, 3G, 2GSupported Networks4G LTE...</td>\n",
       "      <td>Battery Capacity6000 mAhDual BatteryNo</td>\n",
       "    </tr>\n",
       "    <tr>\n",
       "      <th>4</th>\n",
       "      <td>SAMSUNG Galaxy F23 5G (Aqua Blue, 128 GB)</td>\n",
       "      <td>4.3</td>\n",
       "      <td>₹15,499</td>\n",
       "      <td>https://rukminim2.flixcart.com/image/312/312/x...</td>\n",
       "      <td>Internal Storage128 GBRAM6 GBTotal Memory128 G...</td>\n",
       "      <td>Operating SystemAndroid 12Processor TypeQualco...</td>\n",
       "      <td>Primary Camera AvailableYesPrimary Camera50MP ...</td>\n",
       "      <td>Display Size16.76 cm (6.6 inch)Resolution2408 ...</td>\n",
       "      <td>Network Type5G, 4G, 3G, 2GSupported Networks5G...</td>\n",
       "      <td>Battery Capacity5000 mAh</td>\n",
       "    </tr>\n",
       "  </tbody>\n",
       "</table>\n",
       "</div>"
      ],
      "text/plain": [
       "                                          name  ratings    price  \\\n",
       "0   SAMSUNG Galaxy F13 (Sunrise Copper, 64 GB)      4.3   ₹9,499   \n",
       "1  SAMSUNG Galaxy F13 (Waterfall Blue, 128 GB)      4.3  ₹10,499   \n",
       "2  SAMSUNG Galaxy F13 (Nightsky Green, 128 GB)      4.3  ₹10,499   \n",
       "3  SAMSUNG Galaxy F13 (Sunrise Copper, 128 GB)      4.3  ₹10,499   \n",
       "4    SAMSUNG Galaxy F23 5G (Aqua Blue, 128 GB)      4.3  ₹15,499   \n",
       "\n",
       "                                              imgURL  \\\n",
       "0  https://rukminim2.flixcart.com/image/312/312/x...   \n",
       "1  https://rukminim2.flixcart.com/image/312/312/x...   \n",
       "2  https://rukminim2.flixcart.com/image/312/312/x...   \n",
       "3  https://rukminim2.flixcart.com/image/312/312/x...   \n",
       "4  https://rukminim2.flixcart.com/image/312/312/x...   \n",
       "\n",
       "                                         storage_ram  \\\n",
       "0  Internal Storage64 GBRAM4 GBExpandable Storage...   \n",
       "1  Internal Storage128 GBRAM4 GBExpandable Storag...   \n",
       "2  Internal Storage128 GBRAM4 GBExpandable Storag...   \n",
       "3  Internal Storage128 GBRAM4 GBExpandable Storag...   \n",
       "4  Internal Storage128 GBRAM6 GBTotal Memory128 G...   \n",
       "\n",
       "                                        os_processor  \\\n",
       "0  Operating SystemAndroid 12Processor TypeExynos...   \n",
       "1  Operating SystemAndroid 12Processor TypeExynos...   \n",
       "2  Operating SystemAndroid 12Processor TypeExynos...   \n",
       "3  Operating SystemAndroid 12Processor TypeExynos...   \n",
       "4  Operating SystemAndroid 12Processor TypeQualco...   \n",
       "\n",
       "                                              camera  \\\n",
       "0  Primary Camera AvailableYesPrimary Camera50MP ...   \n",
       "1  Primary Camera AvailableYesPrimary Camera50MP ...   \n",
       "2  Primary Camera AvailableYesPrimary Camera50MP ...   \n",
       "3  Primary Camera AvailableYesPrimary Camera50MP ...   \n",
       "4  Primary Camera AvailableYesPrimary Camera50MP ...   \n",
       "\n",
       "                                             display  \\\n",
       "0  Display Size16.76 cm (6.6 inch)Resolution2408 ...   \n",
       "1  Display Size16.76 cm (6.6 inch)Resolution2408 ...   \n",
       "2  Display Size16.76 cm (6.6 inch)Resolution2408 ...   \n",
       "3  Display Size16.76 cm (6.6 inch)Resolution2408 ...   \n",
       "4  Display Size16.76 cm (6.6 inch)Resolution2408 ...   \n",
       "\n",
       "                                             network  \\\n",
       "0  Network Type4G, 3G, 2GSupported Networks4G LTE...   \n",
       "1  Network Type4G, 3G, 2GSupported Networks4G LTE...   \n",
       "2  Network Type4G, 3G, 2GSupported Networks4G LTE...   \n",
       "3  Network Type4G, 3G, 2GSupported Networks4G LTE...   \n",
       "4  Network Type5G, 4G, 3G, 2GSupported Networks5G...   \n",
       "\n",
       "                                  battery  \n",
       "0  Battery Capacity6000 mAhDual BatteryNo  \n",
       "1  Battery Capacity6000 mAhDual BatteryNo  \n",
       "2  Battery Capacity6000 mAhDual BatteryNo  \n",
       "3  Battery Capacity6000 mAhDual BatteryNo  \n",
       "4                Battery Capacity5000 mAh  "
      ]
     },
     "execution_count": 5,
     "metadata": {},
     "output_type": "execute_result"
    }
   ],
   "source": [
    "samsung_data.head()"
   ]
  },
  {
   "cell_type": "code",
   "execution_count": 6,
   "id": "fd94e776",
   "metadata": {},
   "outputs": [
    {
     "data": {
      "text/plain": [
       "name             0\n",
       "ratings         23\n",
       "price            0\n",
       "imgURL           0\n",
       "storage_ram      6\n",
       "os_processor    21\n",
       "camera          14\n",
       "display          3\n",
       "network         11\n",
       "battery          3\n",
       "dtype: int64"
      ]
     },
     "execution_count": 6,
     "metadata": {},
     "output_type": "execute_result"
    }
   ],
   "source": [
    "samsung_data.isnull().sum()"
   ]
  },
  {
   "cell_type": "code",
   "execution_count": 7,
   "id": "d2cad493",
   "metadata": {},
   "outputs": [
    {
     "ename": "NameError",
     "evalue": "name 'data' is not defined",
     "output_type": "error",
     "traceback": [
      "\u001b[1;31m---------------------------------------------------------------------------\u001b[0m",
      "\u001b[1;31mNameError\u001b[0m                                 Traceback (most recent call last)",
      "\u001b[1;32m~\\AppData\\Local\\Temp\\ipykernel_14944\\53642495.py\u001b[0m in \u001b[0;36m<module>\u001b[1;34m\u001b[0m\n\u001b[0;32m      1\u001b[0m \u001b[1;31m# Display the full row value without truncation\u001b[0m\u001b[1;33m\u001b[0m\u001b[1;33m\u001b[0m\u001b[0m\n\u001b[0;32m      2\u001b[0m \u001b[0mpd\u001b[0m\u001b[1;33m.\u001b[0m\u001b[0mset_option\u001b[0m\u001b[1;33m(\u001b[0m\u001b[1;34m'display.max_colwidth'\u001b[0m\u001b[1;33m,\u001b[0m \u001b[1;32mNone\u001b[0m\u001b[1;33m)\u001b[0m\u001b[1;33m\u001b[0m\u001b[1;33m\u001b[0m\u001b[0m\n\u001b[1;32m----> 3\u001b[1;33m \u001b[0mdata\u001b[0m\u001b[1;33m.\u001b[0m\u001b[0miloc\u001b[0m\u001b[1;33m[\u001b[0m\u001b[1;33m:\u001b[0m\u001b[1;36m10\u001b[0m\u001b[1;33m:\u001b[0m\u001b[1;36m4\u001b[0m\u001b[1;33m,\u001b[0m\u001b[1;33m:\u001b[0m\u001b[1;33m]\u001b[0m\u001b[1;33m\u001b[0m\u001b[1;33m\u001b[0m\u001b[0m\n\u001b[0m",
      "\u001b[1;31mNameError\u001b[0m: name 'data' is not defined"
     ]
    }
   ],
   "source": [
    "# Display the full row value without truncation\n",
    "pd.set_option('display.max_colwidth', None)\n",
    "data.iloc[:10:4,:]"
   ]
  },
  {
   "cell_type": "code",
   "execution_count": 8,
   "id": "4598e278",
   "metadata": {},
   "outputs": [
    {
     "data": {
      "text/html": [
       "<div>\n",
       "<style scoped>\n",
       "    .dataframe tbody tr th:only-of-type {\n",
       "        vertical-align: middle;\n",
       "    }\n",
       "\n",
       "    .dataframe tbody tr th {\n",
       "        vertical-align: top;\n",
       "    }\n",
       "\n",
       "    .dataframe thead th {\n",
       "        text-align: right;\n",
       "    }\n",
       "</style>\n",
       "<table border=\"1\" class=\"dataframe\">\n",
       "  <thead>\n",
       "    <tr style=\"text-align: right;\">\n",
       "      <th></th>\n",
       "      <th>name</th>\n",
       "      <th>ratings</th>\n",
       "      <th>price</th>\n",
       "      <th>imgURL</th>\n",
       "      <th>storage_ram</th>\n",
       "      <th>os_processor</th>\n",
       "      <th>camera</th>\n",
       "      <th>display</th>\n",
       "      <th>network</th>\n",
       "      <th>battery</th>\n",
       "    </tr>\n",
       "  </thead>\n",
       "  <tbody>\n",
       "    <tr>\n",
       "      <th>0</th>\n",
       "      <td>SAMSUNG Galaxy F13 (Sunrise Copper, 64 GB)</td>\n",
       "      <td>4.3</td>\n",
       "      <td>₹9,499</td>\n",
       "      <td>https://rukminim2.flixcart.com/image/312/312/xif0q/mobile/x/x/s/-original-imagfhu6dcpdnqkh.jpeg?q=70</td>\n",
       "      <td>Internal Storage64 GBRAM4 GBExpandable Storage1 TBSupported Memory Card TypeMIcroSDMemory Card Slot TypeDedicated SlotCall Log MemoryYes</td>\n",
       "      <td>Operating SystemAndroid 12Processor TypeExynos 850Processor CoreOcta CorePrimary Clock Speed2 GHzOperating Frequency2G GSM: 850/900/1800/1900, 3G UMTS(WCDMA): B1(2100)/B5(850)/B8(900), 4G LTE FDD: B1(2100)/B3(1800)/B5(850)/B7(2600)/B8(900)/B20(800)/B28(700), 4G LTE TDD: B38(2600)/B40(2300)/B41(2500)</td>\n",
       "      <td>Primary Camera AvailableYesPrimary Camera50MP + 5MP + 2MPPrimary Camera FeaturesTriple Camera Setup: 50MP + 5MP + 2MP, Camera Features: Deco Pic, Food, Macro, Panorama, Photo, Portrait, Pro, VideoOptical ZoomYesSecondary Camera AvailableYesSecondary Camera8MP Front CameraSecondary Camera Features8MP Camera SetupFlashRear FlashHD RecordingYesFull HD RecordingYesVideo RecordingYesDigital Zoom10XFrame Rate30 fpsImage EditorYesDual Camera LensPrimary Camera</td>\n",
       "      <td>Display Size16.76 cm (6.6 inch)Resolution2408 x 1080 PixelsResolution TypeFull HD+GPUARM Mali G52Display TypeFull HD+HD Game SupportYesDisplay Colors16MOther Display Features6.6\" FHD+ Dewdrop</td>\n",
       "      <td>Network Type4G, 3G, 2GSupported Networks4G LTE, WCDMA, GSMInternet Connectivity4G, 3G, Wi-Fi, GPRS3G Speed5.76 MbpsGPRSYesPre-installed BrowserGoogle Chrome, Samsung S Browser 14.0Bluetooth SupportYesBluetooth Versionv5.0Wi-FiYesWi-Fi Version802.11 a/b/g/n/ac (2.4 GHz | 5 GHz)Wi-Fi HotspotYesMini HDMI PortNoNFCYesUSB TetheringYesTV OutNoInfraredNoUSB ConnectivityYesAudio Jack3.5mmMap SupportYesGPS SupportYes</td>\n",
       "      <td>Battery Capacity6000 mAhDual BatteryNo</td>\n",
       "    </tr>\n",
       "    <tr>\n",
       "      <th>1</th>\n",
       "      <td>SAMSUNG Galaxy F13 (Waterfall Blue, 128 GB)</td>\n",
       "      <td>4.3</td>\n",
       "      <td>₹10,499</td>\n",
       "      <td>https://rukminim2.flixcart.com/image/312/312/xif0q/mobile/0/8/4/-original-imagfhu75eupxyft.jpeg?q=70</td>\n",
       "      <td>Internal Storage128 GBRAM4 GBExpandable Storage1 TBSupported Memory Card TypeMIcroSDMemory Card Slot TypeDedicated SlotCall Log MemoryYes</td>\n",
       "      <td>Operating SystemAndroid 12Processor TypeExynos 850Processor CoreOcta CorePrimary Clock Speed2 GHzOperating Frequency2G GSM: 850/900/1800/1900, 3G UMTS(WCDMA): B1(2100)/B5(850)/B8(900), 4G LTE FDD: B1(2100)/B3(1800)/B5(850)/B7(2600)/B8(900)/B20(800)/B28(700), 4G LTE TDD: B38(2600)/B40(2300)/B41(2500)</td>\n",
       "      <td>Primary Camera AvailableYesPrimary Camera50MP + 5MP + 2MPPrimary Camera FeaturesTriple Camera Setup: 50MP + 5MP + 2MP, Camera Features: Deco Pic, Food, Macro, Panorama, Photo, Portrait, Pro, VideoOptical ZoomYesSecondary Camera AvailableYesSecondary Camera8MP Front CameraSecondary Camera Features8MP Camera SetupFlashRear FlashHD RecordingYesFull HD RecordingYesVideo RecordingYesDigital Zoom10XFrame Rate30 fpsImage EditorYesDual Camera LensPrimary Camera</td>\n",
       "      <td>Display Size16.76 cm (6.6 inch)Resolution2408 x 1080 PixelsResolution TypeFull HD+GPUARM Mali G52Display TypeFull HD+HD Game SupportYesDisplay Colors16MOther Display Features6.6\" FHD+ Dewdrop</td>\n",
       "      <td>Network Type4G, 3G, 2GSupported Networks4G LTE, WCDMA, GSMInternet Connectivity4G, 3G, Wi-Fi, GPRS3G Speed5.76 MbpsGPRSYesPre-installed BrowserGoogle Chrome, Samsung S Browser 14.0Bluetooth SupportYesBluetooth Versionv5.0Wi-FiYesWi-Fi Version802.11 a/b/g/n/ac (2.4 GHz | 5 GHz)Wi-Fi HotspotYesMini HDMI PortNoNFCYesUSB TetheringYesTV OutNoInfraredNoUSB ConnectivityYesAudio Jack3.5mmMap SupportYesGPS SupportYes</td>\n",
       "      <td>Battery Capacity6000 mAhDual BatteryNo</td>\n",
       "    </tr>\n",
       "  </tbody>\n",
       "</table>\n",
       "</div>"
      ],
      "text/plain": [
       "                                          name  ratings    price  \\\n",
       "0   SAMSUNG Galaxy F13 (Sunrise Copper, 64 GB)      4.3   ₹9,499   \n",
       "1  SAMSUNG Galaxy F13 (Waterfall Blue, 128 GB)      4.3  ₹10,499   \n",
       "\n",
       "                                                                                                 imgURL  \\\n",
       "0  https://rukminim2.flixcart.com/image/312/312/xif0q/mobile/x/x/s/-original-imagfhu6dcpdnqkh.jpeg?q=70   \n",
       "1  https://rukminim2.flixcart.com/image/312/312/xif0q/mobile/0/8/4/-original-imagfhu75eupxyft.jpeg?q=70   \n",
       "\n",
       "                                                                                                                                 storage_ram  \\\n",
       "0   Internal Storage64 GBRAM4 GBExpandable Storage1 TBSupported Memory Card TypeMIcroSDMemory Card Slot TypeDedicated SlotCall Log MemoryYes   \n",
       "1  Internal Storage128 GBRAM4 GBExpandable Storage1 TBSupported Memory Card TypeMIcroSDMemory Card Slot TypeDedicated SlotCall Log MemoryYes   \n",
       "\n",
       "                                                                                                                                                                                                                                                                                                   os_processor  \\\n",
       "0  Operating SystemAndroid 12Processor TypeExynos 850Processor CoreOcta CorePrimary Clock Speed2 GHzOperating Frequency2G GSM: 850/900/1800/1900, 3G UMTS(WCDMA): B1(2100)/B5(850)/B8(900), 4G LTE FDD: B1(2100)/B3(1800)/B5(850)/B7(2600)/B8(900)/B20(800)/B28(700), 4G LTE TDD: B38(2600)/B40(2300)/B41(2500)   \n",
       "1  Operating SystemAndroid 12Processor TypeExynos 850Processor CoreOcta CorePrimary Clock Speed2 GHzOperating Frequency2G GSM: 850/900/1800/1900, 3G UMTS(WCDMA): B1(2100)/B5(850)/B8(900), 4G LTE FDD: B1(2100)/B3(1800)/B5(850)/B7(2600)/B8(900)/B20(800)/B28(700), 4G LTE TDD: B38(2600)/B40(2300)/B41(2500)   \n",
       "\n",
       "                                                                                                                                                                                                                                                                                                                                                                                                                                                                      camera  \\\n",
       "0  Primary Camera AvailableYesPrimary Camera50MP + 5MP + 2MPPrimary Camera FeaturesTriple Camera Setup: 50MP + 5MP + 2MP, Camera Features: Deco Pic, Food, Macro, Panorama, Photo, Portrait, Pro, VideoOptical ZoomYesSecondary Camera AvailableYesSecondary Camera8MP Front CameraSecondary Camera Features8MP Camera SetupFlashRear FlashHD RecordingYesFull HD RecordingYesVideo RecordingYesDigital Zoom10XFrame Rate30 fpsImage EditorYesDual Camera LensPrimary Camera   \n",
       "1  Primary Camera AvailableYesPrimary Camera50MP + 5MP + 2MPPrimary Camera FeaturesTriple Camera Setup: 50MP + 5MP + 2MP, Camera Features: Deco Pic, Food, Macro, Panorama, Photo, Portrait, Pro, VideoOptical ZoomYesSecondary Camera AvailableYesSecondary Camera8MP Front CameraSecondary Camera Features8MP Camera SetupFlashRear FlashHD RecordingYesFull HD RecordingYesVideo RecordingYesDigital Zoom10XFrame Rate30 fpsImage EditorYesDual Camera LensPrimary Camera   \n",
       "\n",
       "                                                                                                                                                                                           display  \\\n",
       "0  Display Size16.76 cm (6.6 inch)Resolution2408 x 1080 PixelsResolution TypeFull HD+GPUARM Mali G52Display TypeFull HD+HD Game SupportYesDisplay Colors16MOther Display Features6.6\" FHD+ Dewdrop   \n",
       "1  Display Size16.76 cm (6.6 inch)Resolution2408 x 1080 PixelsResolution TypeFull HD+GPUARM Mali G52Display TypeFull HD+HD Game SupportYesDisplay Colors16MOther Display Features6.6\" FHD+ Dewdrop   \n",
       "\n",
       "                                                                                                                                                                                                                                                                                                                                                                                                                       network  \\\n",
       "0  Network Type4G, 3G, 2GSupported Networks4G LTE, WCDMA, GSMInternet Connectivity4G, 3G, Wi-Fi, GPRS3G Speed5.76 MbpsGPRSYesPre-installed BrowserGoogle Chrome, Samsung S Browser 14.0Bluetooth SupportYesBluetooth Versionv5.0Wi-FiYesWi-Fi Version802.11 a/b/g/n/ac (2.4 GHz | 5 GHz)Wi-Fi HotspotYesMini HDMI PortNoNFCYesUSB TetheringYesTV OutNoInfraredNoUSB ConnectivityYesAudio Jack3.5mmMap SupportYesGPS SupportYes   \n",
       "1  Network Type4G, 3G, 2GSupported Networks4G LTE, WCDMA, GSMInternet Connectivity4G, 3G, Wi-Fi, GPRS3G Speed5.76 MbpsGPRSYesPre-installed BrowserGoogle Chrome, Samsung S Browser 14.0Bluetooth SupportYesBluetooth Versionv5.0Wi-FiYesWi-Fi Version802.11 a/b/g/n/ac (2.4 GHz | 5 GHz)Wi-Fi HotspotYesMini HDMI PortNoNFCYesUSB TetheringYesTV OutNoInfraredNoUSB ConnectivityYesAudio Jack3.5mmMap SupportYesGPS SupportYes   \n",
       "\n",
       "                                  battery  \n",
       "0  Battery Capacity6000 mAhDual BatteryNo  \n",
       "1  Battery Capacity6000 mAhDual BatteryNo  "
      ]
     },
     "execution_count": 8,
     "metadata": {},
     "output_type": "execute_result"
    }
   ],
   "source": [
    "# display the full row value without truncation\n",
    "\n",
    "\n",
    "pd.set_option('display.max_colwidth',None)\n",
    "samsung_data.iloc[:2]"
   ]
  },
  {
   "cell_type": "code",
   "execution_count": 9,
   "id": "3c3bc1da",
   "metadata": {},
   "outputs": [
    {
     "name": "stdout",
     "output_type": "stream",
     "text": [
      "<class 'pandas.core.frame.DataFrame'>\n",
      "RangeIndex: 576 entries, 0 to 575\n",
      "Data columns (total 10 columns):\n",
      " #   Column        Non-Null Count  Dtype  \n",
      "---  ------        --------------  -----  \n",
      " 0   name          576 non-null    object \n",
      " 1   ratings       553 non-null    float64\n",
      " 2   price         576 non-null    object \n",
      " 3   imgURL        576 non-null    object \n",
      " 4   storage_ram   570 non-null    object \n",
      " 5   os_processor  555 non-null    object \n",
      " 6   camera        562 non-null    object \n",
      " 7   display       573 non-null    object \n",
      " 8   network       565 non-null    object \n",
      " 9   battery       573 non-null    object \n",
      "dtypes: float64(1), object(9)\n",
      "memory usage: 45.1+ KB\n"
     ]
    }
   ],
   "source": [
    "samsung_data.info()"
   ]
  },
  {
   "cell_type": "code",
   "execution_count": 10,
   "id": "bff4117c",
   "metadata": {},
   "outputs": [
    {
     "data": {
      "text/plain": [
       "Index(['name', 'ratings', 'price', 'imgURL', 'storage_ram', 'os_processor',\n",
       "       'camera', 'display', 'network', 'battery'],\n",
       "      dtype='object')"
      ]
     },
     "execution_count": 10,
     "metadata": {},
     "output_type": "execute_result"
    }
   ],
   "source": [
    "samsung_data.columns"
   ]
  },
  {
   "cell_type": "markdown",
   "id": "370235fc",
   "metadata": {},
   "source": [
    "# Data cleaning for new dataset"
   ]
  },
  {
   "cell_type": "code",
   "execution_count": 11,
   "id": "31ae8bc1",
   "metadata": {},
   "outputs": [
    {
     "name": "stderr",
     "output_type": "stream",
     "text": [
      "C:\\Users\\SACHIN\\AppData\\Local\\Temp\\ipykernel_14944\\1386362028.py:33: FutureWarning: The default value of regex will change from True to False in a future version. In addition, single character regular expressions will *not* be treated as literal strings when regex=True.\n",
      "  samsung_data['display_size'] = samsung_data['display'].str.extract('Display Size(.+?) cm', expand=False).str.replace('(', '').astype(float)\n"
     ]
    },
    {
     "data": {
      "text/html": [
       "<div>\n",
       "<style scoped>\n",
       "    .dataframe tbody tr th:only-of-type {\n",
       "        vertical-align: middle;\n",
       "    }\n",
       "\n",
       "    .dataframe tbody tr th {\n",
       "        vertical-align: top;\n",
       "    }\n",
       "\n",
       "    .dataframe thead th {\n",
       "        text-align: right;\n",
       "    }\n",
       "</style>\n",
       "<table border=\"1\" class=\"dataframe\">\n",
       "  <thead>\n",
       "    <tr style=\"text-align: right;\">\n",
       "      <th></th>\n",
       "      <th>name</th>\n",
       "      <th>ratings</th>\n",
       "      <th>price</th>\n",
       "      <th>imgURL</th>\n",
       "      <th>internal_storage</th>\n",
       "      <th>ram</th>\n",
       "      <th>expandable_storage</th>\n",
       "      <th>os</th>\n",
       "      <th>processor_type</th>\n",
       "      <th>primary_camera</th>\n",
       "      <th>secondary_camera</th>\n",
       "      <th>flash_type</th>\n",
       "      <th>display_size</th>\n",
       "      <th>resolution</th>\n",
       "      <th>display_type</th>\n",
       "      <th>network_type</th>\n",
       "      <th>supported_networks</th>\n",
       "      <th>battery_capacity</th>\n",
       "    </tr>\n",
       "  </thead>\n",
       "  <tbody>\n",
       "    <tr>\n",
       "      <th>0</th>\n",
       "      <td>SAMSUNG Galaxy F13 (Sunrise Copper, 64 GB)</td>\n",
       "      <td>4.3</td>\n",
       "      <td>9499</td>\n",
       "      <td>https://rukminim2.flixcart.com/image/312/312/xif0q/mobile/x/x/s/-original-imagfhu6dcpdnqkh.jpeg?q=70</td>\n",
       "      <td>64.0</td>\n",
       "      <td>4.0</td>\n",
       "      <td>NaN</td>\n",
       "      <td>NaN</td>\n",
       "      <td>Exynos 850Processor CoreOcta CorePrimary Clock Speed2 GHzOperating Frequency2G GSM: 850/900/1800/1900, 3G UMTS(WCDMA): B1(2100)/B5(850)/B8(900), 4G LTE FDD: B1(2100)/B3(1800)/B5(850)/B7(2600)/B8(900)/B20(800)/B28(700), 4G LTE TDD: B38(2600)/B40(2300)/B41(2500)</td>\n",
       "      <td>50.0</td>\n",
       "      <td>8.0</td>\n",
       "      <td>R</td>\n",
       "      <td>16.76</td>\n",
       "      <td>2408 x 1080</td>\n",
       "      <td>F</td>\n",
       "      <td>4G, 3G, 2G</td>\n",
       "      <td>4G LTE, WCDMA, GSMInternet Connectivity4G, 3G, Wi-Fi, GPRS3G Speed5.76 MbpsGPRSYesPre-installed BrowserGoogle Chrome, Samsung S Browser 14.0Bluetooth SupportYesBluetooth Versionv5.0Wi-FiYesWi-Fi Version802.11 a/b/g/n/ac (2.4 GHz | 5 GHz)Wi-Fi HotspotYesMini HDMI PortNoNFCYesUSB TetheringYesTV OutNoInfraredNoUSB ConnectivityYesAudio Jack3.5mmMap SupportYesGPS SupportYes</td>\n",
       "      <td>6000</td>\n",
       "    </tr>\n",
       "    <tr>\n",
       "      <th>1</th>\n",
       "      <td>SAMSUNG Galaxy F13 (Waterfall Blue, 128 GB)</td>\n",
       "      <td>4.3</td>\n",
       "      <td>10499</td>\n",
       "      <td>https://rukminim2.flixcart.com/image/312/312/xif0q/mobile/0/8/4/-original-imagfhu75eupxyft.jpeg?q=70</td>\n",
       "      <td>128.0</td>\n",
       "      <td>4.0</td>\n",
       "      <td>NaN</td>\n",
       "      <td>NaN</td>\n",
       "      <td>Exynos 850Processor CoreOcta CorePrimary Clock Speed2 GHzOperating Frequency2G GSM: 850/900/1800/1900, 3G UMTS(WCDMA): B1(2100)/B5(850)/B8(900), 4G LTE FDD: B1(2100)/B3(1800)/B5(850)/B7(2600)/B8(900)/B20(800)/B28(700), 4G LTE TDD: B38(2600)/B40(2300)/B41(2500)</td>\n",
       "      <td>50.0</td>\n",
       "      <td>8.0</td>\n",
       "      <td>R</td>\n",
       "      <td>16.76</td>\n",
       "      <td>2408 x 1080</td>\n",
       "      <td>F</td>\n",
       "      <td>4G, 3G, 2G</td>\n",
       "      <td>4G LTE, WCDMA, GSMInternet Connectivity4G, 3G, Wi-Fi, GPRS3G Speed5.76 MbpsGPRSYesPre-installed BrowserGoogle Chrome, Samsung S Browser 14.0Bluetooth SupportYesBluetooth Versionv5.0Wi-FiYesWi-Fi Version802.11 a/b/g/n/ac (2.4 GHz | 5 GHz)Wi-Fi HotspotYesMini HDMI PortNoNFCYesUSB TetheringYesTV OutNoInfraredNoUSB ConnectivityYesAudio Jack3.5mmMap SupportYesGPS SupportYes</td>\n",
       "      <td>6000</td>\n",
       "    </tr>\n",
       "    <tr>\n",
       "      <th>2</th>\n",
       "      <td>SAMSUNG Galaxy F13 (Nightsky Green, 128 GB)</td>\n",
       "      <td>4.3</td>\n",
       "      <td>10499</td>\n",
       "      <td>https://rukminim2.flixcart.com/image/312/312/xif0q/mobile/a/i/v/-original-imagfhu6bdzhnmkz.jpeg?q=70</td>\n",
       "      <td>128.0</td>\n",
       "      <td>4.0</td>\n",
       "      <td>NaN</td>\n",
       "      <td>NaN</td>\n",
       "      <td>Exynos 850Processor CoreOcta CorePrimary Clock Speed2 GHzOperating Frequency2G GSM: 850/900/1800/1900, 3G UMTS(WCDMA): B1(2100)/B5(850)/B8(900), 4G LTE FDD: B1(2100)/B3(1800)/B5(850)/B7(2600)/B8(900)/B20(800)/B28(700), 4G LTE TDD: B38(2600)/B40(2300)/B41(2500)</td>\n",
       "      <td>50.0</td>\n",
       "      <td>8.0</td>\n",
       "      <td>R</td>\n",
       "      <td>16.76</td>\n",
       "      <td>2408 x 1080</td>\n",
       "      <td>F</td>\n",
       "      <td>4G, 3G, 2G</td>\n",
       "      <td>4G LTE, WCDMA, GSMInternet Connectivity4G, 3G, Wi-Fi, GPRS3G Speed5.76 MbpsGPRSYesPre-installed BrowserGoogle Chrome, Samsung S Browser 14.0Bluetooth SupportYesBluetooth Versionv5.0Wi-FiYesWi-Fi Version802.11 a/b/g/n/ac (2.4 GHz | 5 GHz)Wi-Fi HotspotYesMini HDMI PortNoNFCYesUSB TetheringYesTV OutNoInfraredNoUSB ConnectivityYesAudio Jack3.5mmMap SupportYesGPS SupportYes</td>\n",
       "      <td>6000</td>\n",
       "    </tr>\n",
       "    <tr>\n",
       "      <th>3</th>\n",
       "      <td>SAMSUNG Galaxy F13 (Sunrise Copper, 128 GB)</td>\n",
       "      <td>4.3</td>\n",
       "      <td>10499</td>\n",
       "      <td>https://rukminim2.flixcart.com/image/312/312/xif0q/mobile/x/x/s/-original-imagfhu6dcpdnqkh.jpeg?q=70</td>\n",
       "      <td>128.0</td>\n",
       "      <td>4.0</td>\n",
       "      <td>NaN</td>\n",
       "      <td>NaN</td>\n",
       "      <td>Exynos 850Processor CoreOcta CorePrimary Clock Speed2 GHzOperating Frequency2G GSM: 850/900/1800/1900, 3G UMTS(WCDMA): B1(2100)/B5(850)/B8(900), 4G LTE FDD: B1(2100)/B3(1800)/B5(850)/B7(2600)/B8(900)/B20(800)/B28(700), 4G LTE TDD: B38(2600)/B40(2300)/B41(2500)</td>\n",
       "      <td>50.0</td>\n",
       "      <td>8.0</td>\n",
       "      <td>R</td>\n",
       "      <td>16.76</td>\n",
       "      <td>2408 x 1080</td>\n",
       "      <td>F</td>\n",
       "      <td>4G, 3G, 2G</td>\n",
       "      <td>4G LTE, WCDMA, GSMInternet Connectivity4G, 3G, Wi-Fi, GPRS3G Speed5.76 MbpsGPRSYesPre-installed BrowserGoogle Chrome, Samsung S Browser 14.0Bluetooth SupportYesBluetooth Versionv5.0Wi-FiYesWi-Fi Version802.11 a/b/g/n/ac (2.4 GHz | 5 GHz)Wi-Fi HotspotYesMini HDMI PortNoNFCYesUSB TetheringYesTV OutNoInfraredNoUSB ConnectivityYesAudio Jack3.5mmMap SupportYesGPS SupportYes</td>\n",
       "      <td>6000</td>\n",
       "    </tr>\n",
       "    <tr>\n",
       "      <th>4</th>\n",
       "      <td>SAMSUNG Galaxy F23 5G (Aqua Blue, 128 GB)</td>\n",
       "      <td>4.3</td>\n",
       "      <td>15499</td>\n",
       "      <td>https://rukminim2.flixcart.com/image/312/312/xif0q/mobile/0/h/k/-original-imagcg22czc3ggvw.jpeg?q=70</td>\n",
       "      <td>128.0</td>\n",
       "      <td>6.0</td>\n",
       "      <td>NaN</td>\n",
       "      <td>NaN</td>\n",
       "      <td>Qualcomm Snapdragon 750GProcessor CoreOcta CorePrimary Clock Speed2.2 GHzSecondary Clock Speed2.2 GHzOperating Frequency2G GSM: GSM850/GSM900/DCS1800/PCS1900, 3G UMTS(WCDMA): B1(2100)/B2(1900)/B4(AWS)/B5(850)/B8(900), 4G FDD LTE: B1(2100)/B2(1900)/B3(1800)/B4(AWS)/B5(850)/B7(2600)/B8(900)/B12(700)/B17(700)/B20(800)/B26(850)/B28(700)/B66(AWS-3), 4G TDD LTE: B38(2600)/B40(2300)/B41(2500), 5G FDD: N1(2100),N3(1800),N5(850),N7(2600),N8(900),N20(800),N28(700),N66(AWS-3), 5G TDD: N38(2600),N40(2300),N41(2500),N78(3500)</td>\n",
       "      <td>50.0</td>\n",
       "      <td>8.0</td>\n",
       "      <td>Y</td>\n",
       "      <td>16.76</td>\n",
       "      <td>2408 x 1080</td>\n",
       "      <td>F</td>\n",
       "      <td>5G, 4G, 3G, 2G</td>\n",
       "      <td>5G, 4G LTE, WCDMA, GSMInternet Connectivity5G, 4G, 3G, Wi-FiGPRSYesPre-installed BrowserGoogle Chrome, Samsung S-Browser 13.2Micro USB PortNoMini USB PortNoBluetooth SupportYesBluetooth Versionv5.0Wi-FiYesWi-Fi Version802.11 a/b/g/n/ac (2.4 GHz | 5 GHz)Wi-Fi HotspotYesMini HDMI PortNoNFCYesTV OutNoInfraredNoUSB ConnectivityYesAudio JackYesMap SupportYesGPS SupportYes</td>\n",
       "      <td>5000</td>\n",
       "    </tr>\n",
       "  </tbody>\n",
       "</table>\n",
       "</div>"
      ],
      "text/plain": [
       "                                          name  ratings  price  \\\n",
       "0   SAMSUNG Galaxy F13 (Sunrise Copper, 64 GB)      4.3   9499   \n",
       "1  SAMSUNG Galaxy F13 (Waterfall Blue, 128 GB)      4.3  10499   \n",
       "2  SAMSUNG Galaxy F13 (Nightsky Green, 128 GB)      4.3  10499   \n",
       "3  SAMSUNG Galaxy F13 (Sunrise Copper, 128 GB)      4.3  10499   \n",
       "4    SAMSUNG Galaxy F23 5G (Aqua Blue, 128 GB)      4.3  15499   \n",
       "\n",
       "                                                                                                 imgURL  \\\n",
       "0  https://rukminim2.flixcart.com/image/312/312/xif0q/mobile/x/x/s/-original-imagfhu6dcpdnqkh.jpeg?q=70   \n",
       "1  https://rukminim2.flixcart.com/image/312/312/xif0q/mobile/0/8/4/-original-imagfhu75eupxyft.jpeg?q=70   \n",
       "2  https://rukminim2.flixcart.com/image/312/312/xif0q/mobile/a/i/v/-original-imagfhu6bdzhnmkz.jpeg?q=70   \n",
       "3  https://rukminim2.flixcart.com/image/312/312/xif0q/mobile/x/x/s/-original-imagfhu6dcpdnqkh.jpeg?q=70   \n",
       "4  https://rukminim2.flixcart.com/image/312/312/xif0q/mobile/0/h/k/-original-imagcg22czc3ggvw.jpeg?q=70   \n",
       "\n",
       "   internal_storage  ram  expandable_storage   os  \\\n",
       "0              64.0  4.0                 NaN  NaN   \n",
       "1             128.0  4.0                 NaN  NaN   \n",
       "2             128.0  4.0                 NaN  NaN   \n",
       "3             128.0  4.0                 NaN  NaN   \n",
       "4             128.0  6.0                 NaN  NaN   \n",
       "\n",
       "                                                                                                                                                                                                                                                                                                                                                                                                                                                                                                                           processor_type  \\\n",
       "0                                                                                                                                                                                                                                                                    Exynos 850Processor CoreOcta CorePrimary Clock Speed2 GHzOperating Frequency2G GSM: 850/900/1800/1900, 3G UMTS(WCDMA): B1(2100)/B5(850)/B8(900), 4G LTE FDD: B1(2100)/B3(1800)/B5(850)/B7(2600)/B8(900)/B20(800)/B28(700), 4G LTE TDD: B38(2600)/B40(2300)/B41(2500)   \n",
       "1                                                                                                                                                                                                                                                                    Exynos 850Processor CoreOcta CorePrimary Clock Speed2 GHzOperating Frequency2G GSM: 850/900/1800/1900, 3G UMTS(WCDMA): B1(2100)/B5(850)/B8(900), 4G LTE FDD: B1(2100)/B3(1800)/B5(850)/B7(2600)/B8(900)/B20(800)/B28(700), 4G LTE TDD: B38(2600)/B40(2300)/B41(2500)   \n",
       "2                                                                                                                                                                                                                                                                    Exynos 850Processor CoreOcta CorePrimary Clock Speed2 GHzOperating Frequency2G GSM: 850/900/1800/1900, 3G UMTS(WCDMA): B1(2100)/B5(850)/B8(900), 4G LTE FDD: B1(2100)/B3(1800)/B5(850)/B7(2600)/B8(900)/B20(800)/B28(700), 4G LTE TDD: B38(2600)/B40(2300)/B41(2500)   \n",
       "3                                                                                                                                                                                                                                                                    Exynos 850Processor CoreOcta CorePrimary Clock Speed2 GHzOperating Frequency2G GSM: 850/900/1800/1900, 3G UMTS(WCDMA): B1(2100)/B5(850)/B8(900), 4G LTE FDD: B1(2100)/B3(1800)/B5(850)/B7(2600)/B8(900)/B20(800)/B28(700), 4G LTE TDD: B38(2600)/B40(2300)/B41(2500)   \n",
       "4  Qualcomm Snapdragon 750GProcessor CoreOcta CorePrimary Clock Speed2.2 GHzSecondary Clock Speed2.2 GHzOperating Frequency2G GSM: GSM850/GSM900/DCS1800/PCS1900, 3G UMTS(WCDMA): B1(2100)/B2(1900)/B4(AWS)/B5(850)/B8(900), 4G FDD LTE: B1(2100)/B2(1900)/B3(1800)/B4(AWS)/B5(850)/B7(2600)/B8(900)/B12(700)/B17(700)/B20(800)/B26(850)/B28(700)/B66(AWS-3), 4G TDD LTE: B38(2600)/B40(2300)/B41(2500), 5G FDD: N1(2100),N3(1800),N5(850),N7(2600),N8(900),N20(800),N28(700),N66(AWS-3), 5G TDD: N38(2600),N40(2300),N41(2500),N78(3500)   \n",
       "\n",
       "   primary_camera  secondary_camera flash_type  display_size   resolution  \\\n",
       "0            50.0               8.0          R         16.76  2408 x 1080   \n",
       "1            50.0               8.0          R         16.76  2408 x 1080   \n",
       "2            50.0               8.0          R         16.76  2408 x 1080   \n",
       "3            50.0               8.0          R         16.76  2408 x 1080   \n",
       "4            50.0               8.0          Y         16.76  2408 x 1080   \n",
       "\n",
       "  display_type    network_type  \\\n",
       "0            F      4G, 3G, 2G   \n",
       "1            F      4G, 3G, 2G   \n",
       "2            F      4G, 3G, 2G   \n",
       "3            F      4G, 3G, 2G   \n",
       "4            F  5G, 4G, 3G, 2G   \n",
       "\n",
       "                                                                                                                                                                                                                                                                                                                                                                    supported_networks  \\\n",
       "0  4G LTE, WCDMA, GSMInternet Connectivity4G, 3G, Wi-Fi, GPRS3G Speed5.76 MbpsGPRSYesPre-installed BrowserGoogle Chrome, Samsung S Browser 14.0Bluetooth SupportYesBluetooth Versionv5.0Wi-FiYesWi-Fi Version802.11 a/b/g/n/ac (2.4 GHz | 5 GHz)Wi-Fi HotspotYesMini HDMI PortNoNFCYesUSB TetheringYesTV OutNoInfraredNoUSB ConnectivityYesAudio Jack3.5mmMap SupportYesGPS SupportYes   \n",
       "1  4G LTE, WCDMA, GSMInternet Connectivity4G, 3G, Wi-Fi, GPRS3G Speed5.76 MbpsGPRSYesPre-installed BrowserGoogle Chrome, Samsung S Browser 14.0Bluetooth SupportYesBluetooth Versionv5.0Wi-FiYesWi-Fi Version802.11 a/b/g/n/ac (2.4 GHz | 5 GHz)Wi-Fi HotspotYesMini HDMI PortNoNFCYesUSB TetheringYesTV OutNoInfraredNoUSB ConnectivityYesAudio Jack3.5mmMap SupportYesGPS SupportYes   \n",
       "2  4G LTE, WCDMA, GSMInternet Connectivity4G, 3G, Wi-Fi, GPRS3G Speed5.76 MbpsGPRSYesPre-installed BrowserGoogle Chrome, Samsung S Browser 14.0Bluetooth SupportYesBluetooth Versionv5.0Wi-FiYesWi-Fi Version802.11 a/b/g/n/ac (2.4 GHz | 5 GHz)Wi-Fi HotspotYesMini HDMI PortNoNFCYesUSB TetheringYesTV OutNoInfraredNoUSB ConnectivityYesAudio Jack3.5mmMap SupportYesGPS SupportYes   \n",
       "3  4G LTE, WCDMA, GSMInternet Connectivity4G, 3G, Wi-Fi, GPRS3G Speed5.76 MbpsGPRSYesPre-installed BrowserGoogle Chrome, Samsung S Browser 14.0Bluetooth SupportYesBluetooth Versionv5.0Wi-FiYesWi-Fi Version802.11 a/b/g/n/ac (2.4 GHz | 5 GHz)Wi-Fi HotspotYesMini HDMI PortNoNFCYesUSB TetheringYesTV OutNoInfraredNoUSB ConnectivityYesAudio Jack3.5mmMap SupportYesGPS SupportYes   \n",
       "4    5G, 4G LTE, WCDMA, GSMInternet Connectivity5G, 4G, 3G, Wi-FiGPRSYesPre-installed BrowserGoogle Chrome, Samsung S-Browser 13.2Micro USB PortNoMini USB PortNoBluetooth SupportYesBluetooth Versionv5.0Wi-FiYesWi-Fi Version802.11 a/b/g/n/ac (2.4 GHz | 5 GHz)Wi-Fi HotspotYesMini HDMI PortNoNFCYesTV OutNoInfraredNoUSB ConnectivityYesAudio JackYesMap SupportYesGPS SupportYes   \n",
       "\n",
       "   battery_capacity  \n",
       "0              6000  \n",
       "1              6000  \n",
       "2              6000  \n",
       "3              6000  \n",
       "4              5000  "
      ]
     },
     "execution_count": 11,
     "metadata": {},
     "output_type": "execute_result"
    }
   ],
   "source": [
    "# remomve the currency symbol and convert it into an integer\n",
    "\n",
    "samsung_data['price'] = samsung_data['price'].str.replace('₹', '').str.replace(',', '').astype(int)\n",
    "\n",
    "\n",
    "# split the 'storage_ram ' into 'internal storage' , 'ram' ,'expandable storage'\n",
    "\n",
    "samsung_data['internal_storage']=samsung_data['storage_ram'].str.extract('Internal Storage(\\d+) GB',expand=False).astype(float)\n",
    "\n",
    "samsung_data['ram']=samsung_data['storage_ram'].str.extract('RAM(\\d+) GB',expand=False).astype(float)\n",
    "\n",
    "samsung_data['expandable_storage']=samsung_data['storage_ram'].str.extract('Expandable Storage(\\d+) GB',expand=False).astype(float)\n",
    "\n",
    "\n",
    "# split the 'os_processor' into 'os' and 'processor type'\n",
    "\n",
    "samsung_data['os']=samsung_data['os_processor'].str.extract('Operating System(.+?) Processor',expand=False).str.strip()\n",
    "\n",
    "samsung_data['processor_type']=samsung_data['os_processor'].str.extract('Processor Type(.+)',expand=False).str.strip()\n",
    "\n",
    "\n",
    "# split the camera into primary camera , secondary camera and flash type \n",
    "\n",
    "samsung_data['primary_camera']=samsung_data['camera'].str.extract('Primary Camera(\\d+)MP',expand=False).astype(float)\n",
    "\n",
    "samsung_data['secondary_camera']=samsung_data['camera'].str.extract('Secondary Camera(\\d+)MP',expand=False).astype(float)\n",
    "\n",
    "samsung_data['flash_type']=samsung_data['camera'].str.extract('Flash(.+?)',expand=False).str.strip()\n",
    "\n",
    "\n",
    "# Split the 'display' field into 'display_size', 'resolution', 'display_type', and 'other_display_features'\n",
    "\n",
    "samsung_data['display_size'] = samsung_data['display'].str.extract('Display Size(.+?) cm', expand=False).str.replace('(', '').astype(float)\n",
    "\n",
    "samsung_data['resolution'] = samsung_data['display'].str.extract('Resolution(.+?)Pixels', expand=False).str.strip()\n",
    "\n",
    "samsung_data['display_type'] = samsung_data['display'].str.extract('Display Type(.+?)', expand=False).str.strip()\n",
    "\n",
    "\n",
    "# Split the 'network' field into 'network_type' and 'supported_networks'\n",
    "\n",
    "samsung_data['network_type'] = samsung_data['network'].str.extract('Network Type(.+?)Supported', expand=False).str.strip()\n",
    "\n",
    "samsung_data['supported_networks'] = samsung_data['network'].str.extract('Supported Networks(.+)', expand=False).str.strip()\n",
    "\n",
    "\n",
    "# Fill missing values in 'battery_capacity' with -1 before converting to integer\n",
    "samsung_data['battery_capacity'] = samsung_data['battery'].str.extract('Battery Capacity(\\d+) mAh', expand=False).fillna(-1).astype(int)\n",
    "\n",
    "samsung_data.head()\n",
    "\n",
    "# Drop the original columns\n",
    "samsung_data.drop(['storage_ram', 'os_processor', 'camera', 'display', 'network', 'battery'], axis=1, inplace=True)\n",
    "\n",
    "samsung_data.head()"
   ]
  },
  {
   "cell_type": "code",
   "execution_count": 12,
   "id": "06f5cdfd",
   "metadata": {},
   "outputs": [
    {
     "data": {
      "text/html": [
       "<div>\n",
       "<style scoped>\n",
       "    .dataframe tbody tr th:only-of-type {\n",
       "        vertical-align: middle;\n",
       "    }\n",
       "\n",
       "    .dataframe tbody tr th {\n",
       "        vertical-align: top;\n",
       "    }\n",
       "\n",
       "    .dataframe thead th {\n",
       "        text-align: right;\n",
       "    }\n",
       "</style>\n",
       "<table border=\"1\" class=\"dataframe\">\n",
       "  <thead>\n",
       "    <tr style=\"text-align: right;\">\n",
       "      <th></th>\n",
       "      <th>name</th>\n",
       "      <th>ratings</th>\n",
       "      <th>price</th>\n",
       "      <th>imgURL</th>\n",
       "      <th>internal_storage</th>\n",
       "      <th>ram</th>\n",
       "      <th>expandable_storage</th>\n",
       "      <th>os</th>\n",
       "      <th>processor_type</th>\n",
       "      <th>primary_camera</th>\n",
       "      <th>secondary_camera</th>\n",
       "      <th>flash_type</th>\n",
       "      <th>display_size</th>\n",
       "      <th>resolution</th>\n",
       "      <th>display_type</th>\n",
       "      <th>network_type</th>\n",
       "      <th>supported_networks</th>\n",
       "      <th>battery_capacity</th>\n",
       "    </tr>\n",
       "  </thead>\n",
       "  <tbody>\n",
       "    <tr>\n",
       "      <th>10</th>\n",
       "      <td>SAMSUNG Galaxy F14 5G (OMG Black, 128 GB)</td>\n",
       "      <td>4.2</td>\n",
       "      <td>13990</td>\n",
       "      <td>https://rukminim2.flixcart.com/image/312/312/xif0q/mobile/j/b/r/galaxy-f14-5g-sm-e146bzkhins-samsung-original-imagnzdkvrt2sxrq.jpeg?q=70</td>\n",
       "      <td>128.0</td>\n",
       "      <td>6.0</td>\n",
       "      <td>NaN</td>\n",
       "      <td>NaN</td>\n",
       "      <td>Exynos 1330, Octa CoreProcessor CoreOcta CorePrimary Clock Speed2.4 GHzSecondary Clock Speed2 GHzOperating Frequency2G GSM: GSM850/GSM900/DCS1800/PCS1900, 3G UMTS(WCDMA): B1(2100)/B2(1900)/B4(AWS)/B5(850)/B8(900), 4G LTE FDD: B1(2100)/B2(1900)/B3(1800)/B4(AWS)/B5(850)/B7(2600)/B8(900)/B12(700)/B17(700)/B20(800)/B26(850)/B28(700)/B66(AWS-3), 5G: N1(2100)/N3(1800)/N5(850)/N7(2600)/N8(900)/N20(800)/N28(700)/N66(AWS-3)</td>\n",
       "      <td>50.0</td>\n",
       "      <td>13.0</td>\n",
       "      <td>B</td>\n",
       "      <td>16.76</td>\n",
       "      <td>2408 x 1080</td>\n",
       "      <td>F</td>\n",
       "      <td>2G, 3G, 4G, 5G</td>\n",
       "      <td>4G LTE, 5G, GSM, WCDMAInternet Connectivity5G, 4G, 3G, 2G3GYes3G Speed5.76 MbpsMicro USB PortNoMini USB PortNoBluetooth SupportYesBluetooth Versionv5.2Wi-FiYesWi-Fi Version802.11Wi-Fi HotspotYesMini HDMI PortNoNFCNoUSB TetheringYesUSB ConnectivityYesAudio Jack3.5mmMap SupportGoogle MapsGPS SupportYes</td>\n",
       "      <td>6000</td>\n",
       "    </tr>\n",
       "    <tr>\n",
       "      <th>11</th>\n",
       "      <td>SAMSUNG Galaxy M04 (Dark Blue, 64 GB)</td>\n",
       "      <td>4.1</td>\n",
       "      <td>8093</td>\n",
       "      <td>https://rukminim2.flixcart.com/image/312/312/xif0q/mobile/9/n/h/galaxy-m04-sm-m045f-samsung-original-imagh8ghfyxznzyu.jpeg?q=70</td>\n",
       "      <td>64.0</td>\n",
       "      <td>4.0</td>\n",
       "      <td>NaN</td>\n",
       "      <td>NaN</td>\n",
       "      <td>MediaTek Helio P35Processor CoreOcta CorePrimary Clock Speed2.3 GHz</td>\n",
       "      <td>13.0</td>\n",
       "      <td>5.0</td>\n",
       "      <td>R</td>\n",
       "      <td>16.51</td>\n",
       "      <td>NaN</td>\n",
       "      <td>NaN</td>\n",
       "      <td>4G</td>\n",
       "      <td>4G LTE3GYesBluetooth SupportYesWi-FiYesWi-Fi HotspotYesNFCNoUSB TetheringYesUSB ConnectivityYesGPS SupportYes</td>\n",
       "      <td>5000</td>\n",
       "    </tr>\n",
       "    <tr>\n",
       "      <th>12</th>\n",
       "      <td>SAMSUNG Galaxy F13 (Waterfall Blue, 64 GB)</td>\n",
       "      <td>4.3</td>\n",
       "      <td>9499</td>\n",
       "      <td>https://rukminim2.flixcart.com/image/312/312/xif0q/mobile/0/8/4/-original-imagfhu75eupxyft.jpeg?q=70</td>\n",
       "      <td>64.0</td>\n",
       "      <td>4.0</td>\n",
       "      <td>NaN</td>\n",
       "      <td>NaN</td>\n",
       "      <td>Exynos 850Processor CoreOcta CorePrimary Clock Speed2 GHzOperating Frequency2G GSM: 850/900/1800/1900, 3G UMTS(WCDMA): B1(2100)/B5(850)/B8(900), 4G LTE FDD: B1(2100)/B3(1800)/B5(850)/B7(2600)/B8(900)/B20(800)/B28(700), 4G LTE TDD: B38(2600)/B40(2300)/B41(2500)</td>\n",
       "      <td>50.0</td>\n",
       "      <td>8.0</td>\n",
       "      <td>R</td>\n",
       "      <td>16.76</td>\n",
       "      <td>2408 x 1080</td>\n",
       "      <td>F</td>\n",
       "      <td>4G, 3G, 2G</td>\n",
       "      <td>4G LTE, WCDMA, GSMInternet Connectivity4G, 3G, Wi-Fi, GPRS3G Speed5.76 MbpsGPRSYesPre-installed BrowserGoogle Chrome, Samsung S Browser 14.0Bluetooth SupportYesBluetooth Versionv5.0Wi-FiYesWi-Fi Version802.11 a/b/g/n/ac (2.4 GHz | 5 GHz)Wi-Fi HotspotYesMini HDMI PortNoNFCNoUSB TetheringYesTV OutNoInfraredNoUSB ConnectivityYesAudio Jack3.5mmMap SupportYesGPS SupportYes</td>\n",
       "      <td>6000</td>\n",
       "    </tr>\n",
       "  </tbody>\n",
       "</table>\n",
       "</div>"
      ],
      "text/plain": [
       "                                          name  ratings  price  \\\n",
       "10   SAMSUNG Galaxy F14 5G (OMG Black, 128 GB)      4.2  13990   \n",
       "11       SAMSUNG Galaxy M04 (Dark Blue, 64 GB)      4.1   8093   \n",
       "12  SAMSUNG Galaxy F13 (Waterfall Blue, 64 GB)      4.3   9499   \n",
       "\n",
       "                                                                                                                                      imgURL  \\\n",
       "10  https://rukminim2.flixcart.com/image/312/312/xif0q/mobile/j/b/r/galaxy-f14-5g-sm-e146bzkhins-samsung-original-imagnzdkvrt2sxrq.jpeg?q=70   \n",
       "11           https://rukminim2.flixcart.com/image/312/312/xif0q/mobile/9/n/h/galaxy-m04-sm-m045f-samsung-original-imagh8ghfyxznzyu.jpeg?q=70   \n",
       "12                                      https://rukminim2.flixcart.com/image/312/312/xif0q/mobile/0/8/4/-original-imagfhu75eupxyft.jpeg?q=70   \n",
       "\n",
       "    internal_storage  ram  expandable_storage   os  \\\n",
       "10             128.0  6.0                 NaN  NaN   \n",
       "11              64.0  4.0                 NaN  NaN   \n",
       "12              64.0  4.0                 NaN  NaN   \n",
       "\n",
       "                                                                                                                                                                                                                                                                                                                                                                                                                        processor_type  \\\n",
       "10  Exynos 1330, Octa CoreProcessor CoreOcta CorePrimary Clock Speed2.4 GHzSecondary Clock Speed2 GHzOperating Frequency2G GSM: GSM850/GSM900/DCS1800/PCS1900, 3G UMTS(WCDMA): B1(2100)/B2(1900)/B4(AWS)/B5(850)/B8(900), 4G LTE FDD: B1(2100)/B2(1900)/B3(1800)/B4(AWS)/B5(850)/B7(2600)/B8(900)/B12(700)/B17(700)/B20(800)/B26(850)/B28(700)/B66(AWS-3), 5G: N1(2100)/N3(1800)/N5(850)/N7(2600)/N8(900)/N20(800)/N28(700)/N66(AWS-3)   \n",
       "11                                                                                                                                                                                                                                                                                                                                                                 MediaTek Helio P35Processor CoreOcta CorePrimary Clock Speed2.3 GHz   \n",
       "12                                                                                                                                                                Exynos 850Processor CoreOcta CorePrimary Clock Speed2 GHzOperating Frequency2G GSM: 850/900/1800/1900, 3G UMTS(WCDMA): B1(2100)/B5(850)/B8(900), 4G LTE FDD: B1(2100)/B3(1800)/B5(850)/B7(2600)/B8(900)/B20(800)/B28(700), 4G LTE TDD: B38(2600)/B40(2300)/B41(2500)   \n",
       "\n",
       "    primary_camera  secondary_camera flash_type  display_size   resolution  \\\n",
       "10            50.0              13.0          B         16.76  2408 x 1080   \n",
       "11            13.0               5.0          R         16.51          NaN   \n",
       "12            50.0               8.0          R         16.76  2408 x 1080   \n",
       "\n",
       "   display_type    network_type  \\\n",
       "10            F  2G, 3G, 4G, 5G   \n",
       "11          NaN              4G   \n",
       "12            F      4G, 3G, 2G   \n",
       "\n",
       "                                                                                                                                                                                                                                                                                                                                                                    supported_networks  \\\n",
       "10                                                                       4G LTE, 5G, GSM, WCDMAInternet Connectivity5G, 4G, 3G, 2G3GYes3G Speed5.76 MbpsMicro USB PortNoMini USB PortNoBluetooth SupportYesBluetooth Versionv5.2Wi-FiYesWi-Fi Version802.11Wi-Fi HotspotYesMini HDMI PortNoNFCNoUSB TetheringYesUSB ConnectivityYesAudio Jack3.5mmMap SupportGoogle MapsGPS SupportYes   \n",
       "11                                                                                                                                                                                                                                                                       4G LTE3GYesBluetooth SupportYesWi-FiYesWi-Fi HotspotYesNFCNoUSB TetheringYesUSB ConnectivityYesGPS SupportYes   \n",
       "12  4G LTE, WCDMA, GSMInternet Connectivity4G, 3G, Wi-Fi, GPRS3G Speed5.76 MbpsGPRSYesPre-installed BrowserGoogle Chrome, Samsung S Browser 14.0Bluetooth SupportYesBluetooth Versionv5.0Wi-FiYesWi-Fi Version802.11 a/b/g/n/ac (2.4 GHz | 5 GHz)Wi-Fi HotspotYesMini HDMI PortNoNFCNoUSB TetheringYesTV OutNoInfraredNoUSB ConnectivityYesAudio Jack3.5mmMap SupportYesGPS SupportYes   \n",
       "\n",
       "    battery_capacity  \n",
       "10              6000  \n",
       "11              5000  \n",
       "12              6000  "
      ]
     },
     "execution_count": 12,
     "metadata": {},
     "output_type": "execute_result"
    }
   ],
   "source": [
    "samsung_data[10:13]"
   ]
  },
  {
   "cell_type": "code",
   "execution_count": null,
   "id": "a412c830",
   "metadata": {},
   "outputs": [],
   "source": []
  },
  {
   "cell_type": "markdown",
   "id": "d917fb0e",
   "metadata": {},
   "source": [
    "# Recommendation"
   ]
  },
  {
   "cell_type": "code",
   "execution_count": 13,
   "id": "1b53d226",
   "metadata": {},
   "outputs": [
    {
     "data": {
      "text/plain": [
       "array([[1.        , 0.91485504, 0.91485504, 0.91485504, 0.71811965],\n",
       "       [0.91485504, 1.        , 1.        , 1.        , 0.78853054],\n",
       "       [0.91485504, 1.        , 1.        , 1.        , 0.78853054],\n",
       "       [0.91485504, 1.        , 1.        , 1.        , 0.78853054],\n",
       "       [0.71811965, 0.78853054, 0.78853054, 0.78853054, 1.        ]])"
      ]
     },
     "execution_count": 13,
     "metadata": {},
     "output_type": "execute_result"
    }
   ],
   "source": [
    "from sklearn.preprocessing import StandardScaler\n",
    "from sklearn.metrics.pairwise import cosine_similarity\n",
    "\n",
    "# Select numeric features\n",
    "features = ['ratings', 'price', 'internal_storage', 'ram', 'primary_camera', 'secondary_camera', 'display_size', 'battery_capacity']\n",
    "data_subset = samsung_data[features]\n",
    "\n",
    "# Handle missing values by filling them with the mean value of each column\n",
    "data_subset = data_subset.fillna(data_subset.mean())\n",
    "\n",
    "# Standardize the features\n",
    "scaler = StandardScaler()\n",
    "data_subset_scaled = scaler.fit_transform(data_subset)\n",
    "\n",
    "# Compute the cosine similarity for the first 5 products\n",
    "similarity_matrix = cosine_similarity(data_subset_scaled[:5])\n",
    "\n",
    "similarity_matrix"
   ]
  },
  {
   "cell_type": "markdown",
   "id": "949ed994",
   "metadata": {},
   "source": [
    "# Getting Product Recommendation based on model"
   ]
  },
  {
   "cell_type": "code",
   "execution_count": 14,
   "id": "2617c00f",
   "metadata": {},
   "outputs": [
    {
     "data": {
      "application/vnd.jupyter.widget-view+json": {
       "model_id": "bf4527186c034b2ba1fecb81ff5f6105",
       "version_major": 2,
       "version_minor": 0
      },
      "text/plain": [
       "Dropdown(description='Product:', options=('SAMSUNG Galaxy F13 (Sunrise Copper, 64 GB)', 'SAMSUNG Galaxy F13 (W…"
      ]
     },
     "metadata": {},
     "output_type": "display_data"
    },
    {
     "data": {
      "application/vnd.jupyter.widget-view+json": {
       "model_id": "5998289d20534c07a466b00dc8c52da9",
       "version_major": 2,
       "version_minor": 0
      },
      "text/plain": [
       "Button(description='Recommend', style=ButtonStyle())"
      ]
     },
     "metadata": {},
     "output_type": "display_data"
    },
    {
     "data": {
      "application/vnd.jupyter.widget-view+json": {
       "model_id": "f86d56469c3c4dff83e637b107e5359d",
       "version_major": 2,
       "version_minor": 0
      },
      "text/plain": [
       "Output()"
      ]
     },
     "metadata": {},
     "output_type": "display_data"
    }
   ],
   "source": [
    "import ipywidgets as widgets\n",
    "from IPython.display import display, Image\n",
    "from sklearn.preprocessing import StandardScaler\n",
    "from sklearn.metrics.pairwise import cosine_similarity\n",
    "\n",
    "# Function to recommend products\n",
    "def recommend_products(product_name, data, features, num_recommendations=5):\n",
    "    # Fill missing values with the mean value of each column\n",
    "    data = data.fillna(data.mean())\n",
    "    \n",
    "    # Select the specified features and standardize them\n",
    "    scaler = StandardScaler()\n",
    "    data_scaled = scaler.fit_transform(data[features])\n",
    "    \n",
    "    # Create a DataFrame from the scaled data\n",
    "    data_scaled = pd.DataFrame(data_scaled, index=data.index, columns=features)\n",
    "    \n",
    "    # Compute the cosine similarity matrix\n",
    "    similarity_matrix = cosine_similarity(data_scaled)\n",
    "    \n",
    "    # Create a Series from the similarity matrix using the product names as the index\n",
    "    product_similarities = pd.Series(similarity_matrix[data.index[data['name'] == product_name][0]], index=data['name'])\n",
    "    \n",
    "    # Get the top products with the highest cosine similarity\n",
    "    top_products = product_similarities.sort_values(ascending=False).head(num_recommendations + 1)\n",
    "    \n",
    "    # Remove the input product itself from the recommendations\n",
    "    top_products = top_products.iloc[1:]\n",
    "    \n",
    "    return top_products\n",
    "\n",
    "# Dropdown widget for product selection\n",
    "product_dropdown = widgets.Dropdown(\n",
    "    options=samsung_data['name'].unique(),\n",
    "    description='Product:',\n",
    "    disabled=False,\n",
    ")\n",
    "\n",
    "# Button to trigger the recommendation\n",
    "recommend_button = widgets.Button(description='Recommend')\n",
    "\n",
    "# Output widget to display the recommendations\n",
    "output = widgets.Output()\n",
    "\n",
    "display(product_dropdown, recommend_button, output)\n",
    "\n",
    "def recommend(button):\n",
    "    # Clear previous output\n",
    "    output.clear_output()\n",
    "    \n",
    "    # Get selected product\n",
    "    product_name = product_dropdown.value\n",
    "\n",
    "    # Get recommendations\n",
    "    features = ['ratings', 'price', 'internal_storage', 'ram', 'primary_camera', 'secondary_camera', 'display_size', 'battery_capacity']\n",
    "    recommendations = recommend_products(product_name, samsung_data, features)\n",
    "    \n",
    "    # Display recommendations\n",
    "    with output:\n",
    "        for product in recommendations.index:\n",
    "            img_url = samsung_data.loc[samsung_data['name'] == product, 'imgURL'].values[0]\n",
    "            display(Image(url=img_url))\n",
    "            print(f\"Product: {product}, Similarity Score: {recommendations[product]}\")\n",
    "\n",
    "recommend_button.on_click(recommend)"
   ]
  },
  {
   "cell_type": "code",
   "execution_count": null,
   "id": "4ef525e5",
   "metadata": {},
   "outputs": [],
   "source": []
  },
  {
   "cell_type": "markdown",
   "id": "2f13bd82",
   "metadata": {},
   "source": [
    "# Segment Analysis using Clustering"
   ]
  },
  {
   "cell_type": "code",
   "execution_count": 15,
   "id": "98a517f0",
   "metadata": {},
   "outputs": [
    {
     "name": "stdout",
     "output_type": "stream",
     "text": [
      "1    366\n",
      "2    172\n",
      "0     38\n",
      "Name: cluster, dtype: int64\n"
     ]
    }
   ],
   "source": [
    "from sklearn.cluster import KMeans\n",
    "from sklearn.preprocessing import StandardScaler\n",
    "\n",
    "# Select the features to use for segmentation\n",
    "features = ['price', 'ratings', 'ram', 'internal_storage', 'primary_camera', 'secondary_camera', 'display_size', 'battery_capacity']\n",
    "\n",
    "# Fill missing values with the median of each column\n",
    "samsung_data[features] = samsung_data[features].fillna(samsung_data[features].median())\n",
    "\n",
    "# Standardize the features\n",
    "scaler = StandardScaler()\n",
    "data_scaled = scaler.fit_transform(samsung_data[features])\n",
    "\n",
    "# Perform K-means clustering\n",
    "kmeans = KMeans(n_clusters=3, random_state=0).fit(data_scaled)\n",
    "\n",
    "# Add the cluster labels to the original DataFrame\n",
    "samsung_data['cluster'] = kmeans.labels_\n",
    "\n",
    "# Print the number of phones in each cluster\n",
    "print(samsung_data['cluster'].value_counts())"
   ]
  },
  {
   "cell_type": "code",
   "execution_count": 16,
   "id": "cc65d3b8",
   "metadata": {},
   "outputs": [
    {
     "data": {
      "image/png": "[encoded data removed]",
      "text/plain": [
       "<Figure size 800x800 with 1 Axes>"
      ]
     },
     "metadata": {},
     "output_type": "display_data"
    }
   ],
   "source": [
    "import matplotlib.pyplot as plt\n",
    "from sklearn.decomposition import PCA\n",
    "\n",
    "# Perform PCA for dimensionality reduction\n",
    "pca = PCA(n_components=2)\n",
    "principal_components = pca.fit_transform(data_scaled)\n",
    "\n",
    "# Create a DataFrame with the two principal components\n",
    "principal_df = pd.DataFrame(data=principal_components, columns=['principal component 1', 'principal component 2'])\n",
    "\n",
    "# Concatenate the clusters labels to the DataFrame\n",
    "final_df = pd.concat([principal_df, samsung_data[['cluster']]], axis=1)\n",
    "\n",
    "# Plot the clusters\n",
    "fig = plt.figure(figsize=(8,8))\n",
    "ax = fig.add_subplot(1,1,1) \n",
    "ax.set_xlabel('Principal Component 1', fontsize=15)\n",
    "ax.set_ylabel('Principal Component 2', fontsize=15)\n",
    "ax.set_title('2D visualization of Samsung Mobiles Clusters', fontsize=20)\n",
    "\n",
    "colors = ['r', 'g', 'b']\n",
    "for cluster in range(3):\n",
    "    indicesToKeep = final_df['cluster'] == cluster\n",
    "    ax.scatter(final_df.loc[indicesToKeep, 'principal component 1'], final_df.loc[indicesToKeep, 'principal component 2'], c=colors[cluster], s=50)\n",
    "\n",
    "ax.legend(['Cluster 0', 'Cluster 1', 'Cluster 2'])\n",
    "ax.grid()"
   ]
  },
  {
   "cell_type": "code",
   "execution_count": 17,
   "id": "8c63b91f",
   "metadata": {},
   "outputs": [
    {
     "name": "stdout",
     "output_type": "stream",
     "text": [
      "                price   ratings       ram  internal_storage  primary_camera  \\\n",
      "cluster                                                                       \n",
      "0         3281.342105  4.178947  5.631579        110.842105       43.394737   \n",
      "1        17152.778689  4.191530  4.969945         91.584699       39.961749   \n",
      "2        62741.174419  4.214535  8.406977        201.674419       65.372093   \n",
      "\n",
      "         secondary_camera  display_size  battery_capacity  \n",
      "cluster                                                    \n",
      "0               11.052632      5.198684        959.210526  \n",
      "1               11.161202     16.268661       4976.226776  \n",
      "2               21.953488     16.744012       4569.174419  \n"
     ]
    }
   ],
   "source": [
    "cluster_characteristics = samsung_data.groupby('cluster')[features].mean()\n",
    "print(cluster_characteristics)"
   ]
  },
  {
   "cell_type": "markdown",
   "id": "6f5d51ce",
   "metadata": {},
   "source": [
    "# Price Prediction Model"
   ]
  },
  {
   "cell_type": "code",
   "execution_count": 18,
   "id": "fbf6399b",
   "metadata": {},
   "outputs": [
    {
     "name": "stdout",
     "output_type": "stream",
     "text": [
      "LinearRegression MAE:  12129.739679406055\n",
      "DecisionTreeRegressor MAE:  5594.851682917571\n",
      "RandomForestRegressor MAE:  5700.618983382133\n",
      "SVR MAE:  15639.752768883487\n",
      "GradientBoostingRegressor MAE:  6252.150233386412\n"
     ]
    }
   ],
   "source": [
    "import pandas as pd\n",
    "from sklearn.model_selection import train_test_split\n",
    "from sklearn.linear_model import LinearRegression\n",
    "from sklearn.tree import DecisionTreeRegressor\n",
    "from sklearn.ensemble import RandomForestRegressor, GradientBoostingRegressor\n",
    "from sklearn.svm import SVR\n",
    "from sklearn.metrics import mean_absolute_error\n",
    "from sklearn.preprocessing import OneHotEncoder\n",
    "\n",
    "# Select relevant columns for model training\n",
    "selected_columns = ['ratings', 'ram', 'battery_capacity', 'cluster', 'price']\n",
    "data_selected = samsung_data[selected_columns]\n",
    "\n",
    "# Drop rows with missing target values (price) if any\n",
    "data_selected = data_selected.dropna(subset=['price'])\n",
    "\n",
    "# Separate features (X) and target (y)\n",
    "X = data_selected.drop(columns=['price'])\n",
    "y = data_selected['price']\n",
    "\n",
    "# Handle missing values by filling them with the mean of each column\n",
    "X_filled = X.fillna(X.mean())\n",
    "\n",
    "# Encode categorical variables using one-hot encoding\n",
    "X_encoded = pd.get_dummies(X_filled)\n",
    "\n",
    "# Now split the data into training and testing sets\n",
    "X_train, X_test, y_train, y_test = train_test_split(X_encoded, y, test_size=0.2, random_state=0)\n",
    "\n",
    "# Initialize all the models\n",
    "models = [\n",
    "    LinearRegression(),\n",
    "    DecisionTreeRegressor(random_state=0),\n",
    "    RandomForestRegressor(n_estimators=100, random_state=0),\n",
    "    SVR(),\n",
    "    GradientBoostingRegressor(random_state=0)\n",
    "]\n",
    "\n",
    "# Train and evaluate each model\n",
    "for model in models:\n",
    "    model_name = model.__class__.__name__\n",
    "    \n",
    "    # Train the model\n",
    "    model.fit(X_train, y_train)\n",
    "    \n",
    "    # Make predictions on the test set\n",
    "    predictions = model.predict(X_test)\n",
    "    \n",
    "    # Calculate the mean absolute error of the predictions\n",
    "    mae = mean_absolute_error(y_test, predictions)\n",
    "    \n",
    "    print(f\"{model_name} MAE: \", mae)"
   ]
  },
  {
   "cell_type": "code",
   "execution_count": 19,
   "id": "68d5acb2",
   "metadata": {},
   "outputs": [
    {
     "name": "stdout",
     "output_type": "stream",
     "text": [
      "            Feature  Importance\n",
      "1               ram    0.636082\n",
      "3           cluster    0.196913\n",
      "2  battery_capacity    0.133182\n",
      "0           ratings    0.033823\n"
     ]
    }
   ],
   "source": [
    "important_features_data = samsung_data[['ratings', 'ram', 'battery_capacity', 'cluster', 'price']]\n",
    "\n",
    "# Step 2: Prepare the data for modeling\n",
    "X = important_features_data[['ratings', 'ram', 'battery_capacity', 'cluster']]\n",
    "y = important_features_data['price']\n",
    "\n",
    "# Step 3: Train the GradientBoostingRegressor\n",
    "from sklearn.ensemble import GradientBoostingRegressor\n",
    "\n",
    "# Assuming you have already split the data into training and testing sets, and X_train, y_train are the training data.\n",
    "# You can also use the entire dataset for training if you prefer.\n",
    "model = GradientBoostingRegressor()\n",
    "model.fit(X, y)\n",
    "\n",
    "# Step 4: Get the feature importances\n",
    "feature_importances = model.feature_importances_\n",
    "\n",
    "# Step 5: Sort and display the important features\n",
    "importance_df = pd.DataFrame({'Feature': X.columns, 'Importance': feature_importances})\n",
    "importance_df = importance_df.sort_values(by='Importance', ascending=False)\n",
    "print(importance_df)"
   ]
  },
  {
   "cell_type": "markdown",
   "id": "1a38c895",
   "metadata": {},
   "source": [
    "# getting prediction "
   ]
  },
  {
   "cell_type": "code",
   "execution_count": 20,
   "id": "22b92766",
   "metadata": {},
   "outputs": [
    {
     "data": {
      "application/vnd.jupyter.widget-view+json": {
       "model_id": "d7c37780f1f643e5b3a7596afa62f3db",
       "version_major": 2,
       "version_minor": 0
      },
      "text/plain": [
       "FloatSlider(value=3.0, description='Ratings:', max=5.0, min=1.0)"
      ]
     },
     "metadata": {},
     "output_type": "display_data"
    },
    {
     "data": {
      "application/vnd.jupyter.widget-view+json": {
       "model_id": "5f57df89fec346c8962fc285708523b8",
       "version_major": 2,
       "version_minor": 0
      },
      "text/plain": [
       "FloatSlider(value=4.0, description='RAM (GB):', max=16.0, step=0.5)"
      ]
     },
     "metadata": {},
     "output_type": "display_data"
    },
    {
     "data": {
      "application/vnd.jupyter.widget-view+json": {
       "model_id": "c419cdf13c76458cbe81cb1926bf24c6",
       "version_major": 2,
       "version_minor": 0
      },
      "text/plain": [
       "FloatSlider(value=5000.0, description='Battery Capacity (mAh):', max=10000.0, step=10.0)"
      ]
     },
     "metadata": {},
     "output_type": "display_data"
    },
    {
     "data": {
      "application/vnd.jupyter.widget-view+json": {
       "model_id": "e6fcdb7020ae4f7fb78e3b105431f5a0",
       "version_major": 2,
       "version_minor": 0
      },
      "text/plain": [
       "Dropdown(description='Cluster:', options=(0, 1, 2), value=0)"
      ]
     },
     "metadata": {},
     "output_type": "display_data"
    },
    {
     "data": {
      "application/vnd.jupyter.widget-view+json": {
       "model_id": "f85f16f978e546a1bc9b893d75203f76",
       "version_major": 2,
       "version_minor": 0
      },
      "text/plain": [
       "Button(description='Predict Price', style=ButtonStyle())"
      ]
     },
     "metadata": {},
     "output_type": "display_data"
    },
    {
     "data": {
      "application/vnd.jupyter.widget-view+json": {
       "model_id": "0094c2c355e94c0a82ed5c902732ad48",
       "version_major": 2,
       "version_minor": 0
      },
      "text/plain": [
       "Output()"
      ]
     },
     "metadata": {},
     "output_type": "display_data"
    }
   ],
   "source": [
    "import ipywidgets as widgets\n",
    "from IPython.display import display\n",
    "import pandas as pd\n",
    "\n",
    "# Function to make a price prediction based on user input\n",
    "def predict_price(ratings, ram, battery_capacity, cluster):\n",
    "    # Create a DataFrame with the user input\n",
    "    input_data = pd.DataFrame({\n",
    "        'ratings': [ratings],\n",
    "        'ram': [ram],\n",
    "        'battery_capacity': [battery_capacity],\n",
    "        'cluster': [cluster]\n",
    "    })\n",
    "\n",
    "    # Handle missing values in the input\n",
    "    input_data_filled = input_data.fillna(input_data.mean())\n",
    "\n",
    "    # Make the price prediction using the trained GradientBoostingRegressor\n",
    "    price_prediction = models[-1].predict(input_data_filled)[0]\n",
    "\n",
    "    return price_prediction\n",
    "\n",
    "# Create input widgets for user input\n",
    "ratings_input = widgets.FloatSlider(description='Ratings:', min=1.0, max=5.0, step=0.1, value=3.0)\n",
    "ram_input = widgets.FloatSlider(description='RAM (GB):', min=0.0, max=16.0, step=0.5, value=4.0)\n",
    "battery_capacity_input = widgets.FloatSlider(description='Battery Capacity (mAh):', min=0.0, max=10000.0, step=10.0, value=5000.0)\n",
    "cluster_options = [0, 1, 2]\n",
    "cluster_input = widgets.Dropdown(description='Cluster:', options=cluster_options, value=0)\n",
    "\n",
    "# Create a button for prediction\n",
    "predict_button = widgets.Button(description='Predict Price')\n",
    "\n",
    "# Output widget to display the prediction result\n",
    "output = widgets.Output()\n",
    "\n",
    "# Function to handle the button click and display the prediction\n",
    "def on_predict_button_click(button):\n",
    "    # Clear previous output\n",
    "    output.clear_output()\n",
    "\n",
    "    # Get user input\n",
    "    ratings = ratings_input.value\n",
    "    ram = ram_input.value\n",
    "    battery_capacity = battery_capacity_input.value\n",
    "    cluster = cluster_input.value\n",
    "\n",
    "    # Make the price prediction\n",
    "    price_prediction = predict_price(ratings, ram, battery_capacity, cluster)\n",
    "\n",
    "    # Display the prediction\n",
    "    with output:\n",
    "        print(f\"Predicted Price: ₹ {price_prediction:.2f}\")\n",
    "\n",
    "# Attach the click event to the button\n",
    "predict_button.on_click(on_predict_button_click)\n",
    "\n",
    "# Display the widgets\n",
    "display(ratings_input, ram_input, battery_capacity_input, cluster_input, predict_button, output)"
   ]
  },
  {
   "cell_type": "code",
   "execution_count": null,
   "id": "e18d4dc7",
   "metadata": {},
   "outputs": [],
   "source": []
  },
  {
   "cell_type": "code",
   "execution_count": null,
   "id": "b33f4747",
   "metadata": {},
   "outputs": [],
   "source": []
  }
 ],
 "metadata": {
  "kernelspec": {
   "display_name": "Python 3 (ipykernel)",
   "language": "python",
   "name": "python3"
  },
  "language_info": {
   "codemirror_mode": {
    "name": "ipython",
    "version": 3
   },
   "file_extension": ".py",
   "mimetype": "text/x-python",
   "name": "python",
   "nbconvert_exporter": "python",
   "pygments_lexer": "ipython3",
   "version": "3.9.13"
  }
 },
 "nbformat": 4,
 "nbformat_minor": 5
}
